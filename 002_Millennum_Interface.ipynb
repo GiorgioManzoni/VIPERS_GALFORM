{
 "cells": [
  {
   "cell_type": "code",
   "execution_count": 25,
   "metadata": {
    "collapsed": true
   },
   "outputs": [],
   "source": [
    "from virgodb import VirgoDB"
   ]
  },
  {
   "cell_type": "markdown",
   "metadata": {},
   "source": [
    "# virgodb.py interface\n",
    "This code exploit the features of virgodb.py that creates an interface to the Virgo Database. "
   ]
  },
  {
   "cell_type": "code",
   "execution_count": 26,
   "metadata": {
    "collapsed": false
   },
   "outputs": [],
   "source": [
    "vdb = VirgoDB(\"giorgio\",password=\"BN401kmd\")"
   ]
  },
  {
   "cell_type": "markdown",
   "metadata": {},
   "source": [
    "There are two functions to extract the data from the MyMillennium database. The first is vdb.execute_query() and it returns an object that contains all the data. The second function is vdb.query_to_file() and it returns a text file. In this last case it returns an \"empty\" object (None)."
   ]
  },
  {
   "cell_type": "code",
   "execution_count": 39,
   "metadata": {
    "collapsed": false
   },
   "outputs": [],
   "source": [
    "result1 = vdb.execute_query(\"select top(3) * from Gonzalez2014a..MR7\")\n",
    "vdb.query_to_file(\"counts.txt\", \"select count(*) from Gonzalez2014a..MR7\",format=\"text\")"
   ]
  },
  {
   "cell_type": "code",
   "execution_count": 40,
   "metadata": {
    "collapsed": false
   },
   "outputs": [
    {
     "name": "stdout",
     "output_type": "stream",
     "text": [
      "[61 60 59]\n"
     ]
    }
   ],
   "source": [
    "#select a column just with its name\n",
    "print result1[\"SnapNum\"]"
   ]
  },
  {
   "cell_type": "code",
   "execution_count": 41,
   "metadata": {
    "collapsed": false
   },
   "outputs": [],
   "source": [
    "#if you save into a text file, you don't obtain an abject but just \"None\"\n",
    "result2 = vdb.query_to_file(\"top3.txt\", \"select top(3) * from Gonzalez2014a..MR7\",format=\"text\")"
   ]
  },
  {
   "cell_type": "code",
   "execution_count": 42,
   "metadata": {
    "collapsed": false
   },
   "outputs": [
    {
     "name": "stdout",
     "output_type": "stream",
     "text": [
      "None\n"
     ]
    }
   ],
   "source": [
    "print result2"
   ]
  },
  {
   "cell_type": "markdown",
   "metadata": {},
   "source": [
    "if you use count(\\*) in the result you obtain a line like:\n",
    "\n",
    "#COLUMN 1 name= JDBC_TYPE=4 JDBC_TYPENAME=int \n",
    "\n",
    "and since there is name= to nothing specified, the functiom _read_column_info rise an exception.\n",
    "\n",
    "Anyway, if you use count(\\*) in the query_to_file() function you obtain a txt file without problems. However I think that you might not really want to use count(*) so that you avoid to have problems."
   ]
  },
  {
   "cell_type": "code",
   "execution_count": 44,
   "metadata": {
    "collapsed": false
   },
   "outputs": [],
   "source": [
    "#Uncomment the line if you want to see the exeption that arise if you use count(*)\n",
    "#res = vdb.execute_query(\"select count(*) from Gonzalez2014a..MR7\")"
   ]
  },
  {
   "cell_type": "markdown",
   "metadata": {},
   "source": [
    "You can see the columns available by typing:"
   ]
  },
  {
   "cell_type": "code",
   "execution_count": 45,
   "metadata": {
    "collapsed": false
   },
   "outputs": [
    {
     "name": "stdout",
     "output_type": "stream",
     "text": [
      "['mag_R_obs', 'mag_V_obs', 'EWDisk_Halpha_noext', 'DES_z_obs_ext', 'EW_OIII5007_ext', 'random', 'EWBulge_SII6716_noext', 'EW_Hgamma_ext', 'LBulge_SII6716_noext', 'LBulge_OII3727_ext', 'LBulge_OI6300_ext', 'DES_i_obs_ext', 'EW_OI6300_ext', 'EWDisk_OI6300_noext', 'SnapNum', 'SDSS_u_ext', 'L_OI6300_ext', 'EW_SII6716_noext', 'EUCLID_J_obs_ext', 'nodeIndex', 'WISE_36_ext', 'mag_V_obs_ext', 'DSubhaloID', 'EW_OI6300_noext', 'EWDisk_Lyalpha_ext', 'EWBulge_OII3727_noext', 'LBulge_OI6300_noext', 'SDSS_r_ext', 'EW_OIII5007_noext', 'L_CO10_ext', 'L_SII6731_noext', 'EW_OII3727_noext', 'EWBulge_NII6583_ext', 'EW_SII6731_noext', 'DES_r_obs', 'phkey', 'EWBulge_Halpha_noext', 'mag_R_ext', 'L_Hgamma_noext', 'LBulge_OIII4959_ext', 'EWDisk_OII3727_noext', 'DES_i_ext', 'hotgas', 'LBulge_CO10_ext', 'VISTA_H_obs_ext', 'EUCLID_Y_obs', 'SDSS_i_obs_ext', 'IRAC_80_ext', 'EW_OIII4959_noext', 'EWBulge_OI6300_noext', 'SDSS_u_obs_ext', 'GALEX_FUV_ext', 'EWBulge_OI6300_ext', 'EW_Hgamma_noext', 'LBulge_OIII5007_noext', 'EWBulge_SII6716_ext', 'LBulge_Hbeta_noext', 'EW_Lyalpha_ext', 'LBulge_CO65_ext', 'EWDisk_OII3727_ext', 'Redshift', 'IRAC_58_ext', 'WISE_46', 'LBulge_Halpha_ext', 'EWDisk_OIII4959_ext', 'IRAC_58', 'mag_K_ext', 'VISTA_Ks_ext', 'SDSS_z_obs_ext', 'LBulge_Hgamma_noext', 'x', 'L_CO54_ext', 'WISE_46_obs', 'EW_Lyalpha_noext', 'DES_g_obs', 'EW_OIII4959_ext', 'EWDisk_OI6300_ext', 'EW_NII6583_ext', 'LBulge_OII3727_noext', 'VISTA_Ks_obs', 'L_NII6583_ext', 'FoFID', 'stellarmass', 'WISE_46_obs_ext', 'velz', 'vely', 'velx', 'vbulge', 'MUSYC_I', 'EWDisk_SII6716_noext', 'GALEX_NUV_ext', 'EUCLID_H_obs_ext', 'EUCLID_V_obs_ext', 'LBulge_CO109_ext', 'EUCLID_V_obs', 'EWBulge_Hbeta_ext', 'LBulge_Lyalpha_ext', 'mag_R_obs_ext', 'EUCLID_J_ext', 'IRAC_80_obs_ext', 'EWDisk_SII6731_noext', 'DES_g_ext', 'metals_stellarmass', 'DES_z_ext', 'VISTA_H_ext', 'WISE_36_obs', 'L_CO43_ext', 'EW_OII3727_ext', 'LBulge_NII6583_ext', 'EUCLID_H', 'L_Hgamma_ext', 'LBulge_OIII4959_noext', 'EWBulge_SII6731_ext', 'GALEX_NUV', 'L_OIII4959_noext', 'L_Lyalpha_ext', 'L_OIII5007_ext', 'L_NII6583_noext', 'EWDisk_NII6583_ext', 'LBulge_Lyalpha_noext', 'SDSS_z_obs', 'SDSS_z_ext', 'L_Halpha_ext', 'mag_B', 'L_CO76_ext', 'EW_Hbeta_ext', 'LBulge_CO21_ext', 'mag_K', 'GalaxyID', 'bulgemass', 'L_CO65_ext', 'LBulge_Hbeta_ext', 'mag_V', 'EWDisk_Hbeta_ext', 'LBulge_CO76_ext', 'mag_R', 'L_OII3727_noext', 'L_OII3727_ext', 'EWDisk_OIII5007_ext', 'mag_K_obs_ext', 'SDSS_g_ext', 'mag_B_obs_ext', 'IRAC_58_obs_ext', 'DES_r_ext', 'DES_z_obs', 'coldgas_atomic', 'DHaloID', 'EWDisk_Lyalpha_noext', 'LastProgenitorID', 'EUCLID_H_ext', 'EW_Hbeta_noext', 'IRAC_58_obs', 'mag_V_ext', 'metals_bulgemass', 'EWBulge_Hgamma_noext', 'EWBulge_Lyalpha_noext', 'L_OIII5007_noext', 'EUCLID_Y', 'MainLeafID', 'EUCLID_J', 'EW_SII6731_ext', 'LBulge_CO98_ext', 'EWDisk_Halpha_ext', 'vdisk', 'MUSYC_I_obs', 'DES_g_obs_ext', 'DES_Y_ext', 'metals_hotgas', 'EWDisk_SII6716_ext', 'LBulge_SII6731_ext', 'coldgas_mol', 'type', 'EW_NII6583_noext', 'LBulge_CO54_ext', 'EUCLID_V', 'EWBulge_Lyalpha_ext', 'EWBulge_Hgamma_ext', 'DES_i_obs', 'EW_SII6716_ext', 'DES_Y_obs_ext', 'SDSS_g', 'SDSS_i', 'mag_B_ext', 'sfrbulge', 'mag_K_obs', 'L_CO21_ext', 'LBulge_Halpha_noext', 'SDSS_r', 'coldgas_mol_bulge', 'LBulge_NII6583_noext', 'SDSS_z', 'coldgas_atomic_bulge', 'EW_Halpha_ext', 'EWBulge_OIII5007_noext', 'L_CO98_ext', 'EWBulge_OIII4959_noext', 'DES_r', 'L_OI6300_noext', 'IRAC_80_obs', 'MUSYC_I_obs_ext', 'VISTA_H_obs', 'VISTA_J_obs_ext', 'GALEX_FUV', 'SDSS_r_obs', 'DES_z', 'VISTA_J_ext', 'mag_B_obs', 'EWBulge_Halpha_ext', 'LBulge_SII6731_noext', 'LBulge_OIII5007_ext', 'DES_g', 'DES_i', 'z', 'EUCLID_H_obs', 'iy', 'ix', 'iz', 'rdisk', 'blackholemass', 'EWDisk_Hbeta_noext', 'EUCLID_J_obs', 'DES_r_obs_ext', 'DescendantID', 'WISE_46_ext', 'VISTA_H', 'MUSYC_I_ext', 'VISTA_J', 'EWDisk_NII6583_noext', 'VISTA_Ks_obs_ext', 'L_CO87_ext', 'SDSS_i_obs', 'WISE_36', 'L_SII6716_noext', 'SDSS_u_obs', 'EWDisk_Hgamma_noext', 'VISTA_J_obs', 'L_CO109_ext', 'L_Hbeta_ext', 'EWBulge_OII3727_ext', 'LBulge_CO87_ext', 'zindex', 'EWDisk_SII6731_ext', 'EUCLID_V_ext', 'WISE_36_obs_ext', 'EWBulge_SII6731_noext', 'coldgas', 'DES_Y', 'EWDisk_Hgamma_ext', 'LBulge_CO32_ext', 'EUCLID_Y_obs_ext', 'SDSS_g_obs', 'rbulge', 'L_CO32_ext', 'IRAC_80', 'VISTA_Ks', 'LBulge_SII6716_ext', 'sfr', 'L_Halpha_noext', 'EWDisk_OIII4959_noext', 'EUCLID_Y_ext', 'DES_Y_obs', 'SDSS_i_ext', 'L_SII6731_ext', 'L_Lyalpha_noext', 'SDSS_g_obs_ext', 'EWBulge_Hbeta_noext', 'LBulge_CO43_ext', 'EW_Halpha_noext', 'EWBulge_NII6583_noext', 'EWDisk_OIII5007_noext', 'L_Hbeta_noext', 'L_SII6716_ext', 'metals_coldgas', 'mdhalo', 'y', 'L_OIII4959_ext', 'SDSS_r_obs_ext', 'LBulge_Hgamma_ext', 'SDSS_u']\n"
     ]
    }
   ],
   "source": [
    "print result1.dtype.fields.keys()"
   ]
  },
  {
   "cell_type": "code",
   "execution_count": null,
   "metadata": {
    "collapsed": true
   },
   "outputs": [],
   "source": []
  }
 ],
 "metadata": {
  "kernelspec": {
   "display_name": "Python 2",
   "language": "python",
   "name": "python2"
  },
  "language_info": {
   "codemirror_mode": {
    "name": "ipython",
    "version": 2
   },
   "file_extension": ".py",
   "mimetype": "text/x-python",
   "name": "python",
   "nbconvert_exporter": "python",
   "pygments_lexer": "ipython2",
   "version": "2.7.13"
  }
 },
 "nbformat": 4,
 "nbformat_minor": 0
}
