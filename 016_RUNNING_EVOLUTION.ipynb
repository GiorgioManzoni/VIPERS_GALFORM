{
 "cells": [
  {
   "cell_type": "code",
   "execution_count": 1,
   "metadata": {},
   "outputs": [
    {
     "ename": "ImportError",
     "evalue": "No module named matplotlib.pyplot",
     "output_type": "error",
     "traceback": [
      "\u001b[0;31m---------------------------------------------------------------------------\u001b[0m",
      "\u001b[0;31mImportError\u001b[0m                               Traceback (most recent call last)",
      "\u001b[0;32m<ipython-input-1-a0d2faabd9e9>\u001b[0m in \u001b[0;36m<module>\u001b[0;34m()\u001b[0m\n\u001b[0;32m----> 1\u001b[0;31m \u001b[0;32mimport\u001b[0m \u001b[0mmatplotlib\u001b[0m\u001b[0;34m.\u001b[0m\u001b[0mpyplot\u001b[0m \u001b[0;32mas\u001b[0m \u001b[0mplt\u001b[0m\u001b[0;34m\u001b[0m\u001b[0m\n\u001b[0m",
      "\u001b[0;31mImportError\u001b[0m: No module named matplotlib.pyplot"
     ]
    }
   ],
   "source": [
    "import matplotlib.pyplot as plt"
   ]
  },
  {
   "cell_type": "code",
   "execution_count": 2,
   "metadata": {},
   "outputs": [],
   "source": [
    "from pandora.astro import Mags"
   ]
  },
  {
   "cell_type": "code",
   "execution_count": 3,
   "metadata": {},
   "outputs": [],
   "source": [
    "from fase.fileio import Table"
   ]
  },
  {
   "cell_type": "code",
   "execution_count": 4,
   "metadata": {},
   "outputs": [],
   "source": [
    "from fase.fileio import Image"
   ]
  },
  {
   "cell_type": "code",
   "execution_count": 5,
   "metadata": {},
   "outputs": [],
   "source": [
    "from fase.fileio import Spectrum"
   ]
  },
  {
   "cell_type": "code",
   "execution_count": 10,
   "metadata": {},
   "outputs": [],
   "source": [
    "from astropy.cosmology import FlatLambdaCDM"
   ]
  },
  {
   "cell_type": "code",
   "execution_count": 7,
   "metadata": {},
   "outputs": [],
   "source": [
    "import numpy as np"
   ]
  },
  {
   "cell_type": "code",
   "execution_count": 8,
   "metadata": {},
   "outputs": [],
   "source": [
    "from GMfunctions import *"
   ]
  },
  {
   "cell_type": "code",
   "execution_count": 9,
   "metadata": {},
   "outputs": [],
   "source": [
    "import os"
   ]
  },
  {
   "cell_type": "markdown",
   "metadata": {},
   "source": [
    "# Function to read magnitudes from the evolved model"
   ]
  },
  {
   "cell_type": "code",
   "execution_count": 11,
   "metadata": {},
   "outputs": [],
   "source": [
    "def getUV_NewModel(templ_start,delta_t):\n",
    "    jump_n_model = int((delta_t/0.1)+0.5)\n",
    "    templ_end = templ_start + jump_n_model\n",
    "\n",
    "    #get tau of templ_start and compare it to the tau of templ_end\n",
    "\n",
    "    if templ_end<=1 or ima.getRow(templ_end)[tao_position] != ima.getRow(templ_start)[tao_position]:\n",
    "        ERROR= True\n",
    "    else:\n",
    "        ERROR=False\n",
    "\n",
    "    if not ERROR:\n",
    "        #print \"numero di modelli da saltare:\", jump_n_model, \"--> delta t= \",delta_t\n",
    "        flx_all = ima.getRow(templ_end)\n",
    "        flx = flx_all[0:last_lamb+1]\n",
    "        spec = Spectrum((lambdas,flx))\n",
    "        u = spec.getMag(\"U_Bessel\",1,mag)\n",
    "        v = spec.getMag(\"V_Buser\",1,mag)\n",
    "        logmass = flx_all[mass_position]\n",
    "    else:\n",
    "        u = -99.\n",
    "        v = -99.\n",
    "        logmass = -99.\n",
    "    return u,v,logmass,ERROR"
   ]
  },
  {
   "cell_type": "markdown",
   "metadata": {},
   "source": [
    "# Read variables"
   ]
  },
  {
   "cell_type": "code",
   "execution_count": 16,
   "metadata": {},
   "outputs": [],
   "source": [
    "match = Table(\"../data/Data_Sample_V7.fits\",hdu=8)\n",
    "# image containing PEGASE models for SFH with no quenching\n",
    "ima = Image(\"../data/models_san_new_wind_abs.fits\")\n",
    "mag = Mags()\n",
    "\n",
    "cosmo = FlatLambdaCDM(H0=70,Om0=0.3)\n",
    "\n",
    "lambdas_all = ima.getRow(1)\n",
    "last_lamb = lambdas_all.argmin()-1\n",
    "lambdas = lambdas_all[0:last_lamb+1]\n",
    "\n",
    "# position in pixels where the \n",
    "# parameters are stored in ima\n",
    "tao_position  = last_lamb+1\n",
    "age_position  = last_lamb+2\n",
    "sfr_position  = last_lamb+6\n",
    "mass_position = last_lamb+7\n",
    "metallicity_position = last_lamb+5"
   ]
  },
  {
   "cell_type": "code",
   "execution_count": 17,
   "metadata": {},
   "outputs": [],
   "source": [
    "z       = match.getCol(\"zspec_1\")\n",
    "templ   = match.getCol(\"TEMPL\")\n",
    "mag_u   = match.getCol(\"M_Uj\")\n",
    "mag_v   = match.getCol(\"M_V\")\n",
    "uv      = mag_u - mag_v\n",
    "lgmass  = match.getCol(\"log_stellar_mass\")\n",
    "\n",
    "mtau = match.getCol(\"TAU_2\")\n",
    "mage = match.getCol(\"AGE_2\")\n",
    "mindex = match.getCol(\"num_1\")"
   ]
  },
  {
   "cell_type": "code",
   "execution_count": 18,
   "metadata": {},
   "outputs": [],
   "source": [
    "# zlow \t zhigh \t z_median \t t_median \n",
    "# 4.000000000000000222e-01 5.000000000000000000e-01 4.659999907016754150e-01 8.668469387307764507e+00\n",
    "# 5.000000000000000000e-01 5.999999999999999778e-01 5.529999732971191406e-01 8.056404053468638082e+00\n",
    "# 5.999999999999999778e-01 6.999999999999999556e-01 6.470000147819519043e-01 7.465174918806797955e+00\n",
    "# 6.999999999999999556e-01 8.000000000000000444e-01 7.491000294685363770e-01 6.894509193135578862e+00\n",
    "# 8.000000000000000444e-01 9.000000000000000222e-01 8.486499786376953125e-01 6.400014398583118158e+00\n",
    "# 9.000000000000000222e-01 1.000000000000000000e+00 9.408000111579895020e-01 5.989489134132708337e+00\n",
    "# 1.000000000000000000e+00 1.300000000000000044e+00 1.090000033378601074e+00 5.406702162694932312e+00"
   ]
  },
  {
   "cell_type": "markdown",
   "metadata": {},
   "source": [
    "# Computing median redshifts and cosmic time for evolution"
   ]
  },
  {
   "cell_type": "code",
   "execution_count": 20,
   "metadata": {},
   "outputs": [],
   "source": [
    "zint_low  = [0.4,0.5,0.6,0.7,0.8,0.9,1.0]\n",
    "zint_high = [0.5,0.6,0.7,0.8,0.9,1.0,1.1]\n",
    "zetas = np.zeros(len(zint_low))\n",
    "times = np.zeros(len(zint_low))\n",
    "for i in range(len(zetas)):\n",
    "    z_bin = np.where((z>zint_low[i])&(z<zint_high[i]))\n",
    "    zetas[i] = np.median(z[z_bin])\n",
    "    times[i] = cosmo.age(z=zetas[i]).value"
   ]
  },
  {
   "cell_type": "code",
   "execution_count": 21,
   "metadata": {},
   "outputs": [
    {
     "data": {
      "text/plain": [
       "array([ 8.66094395,  8.06143064,  7.4719106 ,  6.9014859 ,  6.40691613,\n",
       "        6.00713169,  5.58117456])"
      ]
     },
     "execution_count": 21,
     "metadata": {},
     "output_type": "execute_result"
    }
   ],
   "source": [
    "times"
   ]
  },
  {
   "cell_type": "code",
   "execution_count": 22,
   "metadata": {},
   "outputs": [],
   "source": [
    "# median redshift and median cosmic time for redshift bins\n",
    "# they have been computed in Bologna galaxies so that \n",
    "# they are slightly different from the matched catalogue with Milan\n",
    "\n",
    "# After checked that everything is working change them in the actual ones\n",
    "#zint_low, zint_high, zetas, times = np.loadtxt(\"delta_t.txt\", unpack=True)"
   ]
  },
  {
   "cell_type": "markdown",
   "metadata": {},
   "source": [
    "# Create output folder "
   ]
  },
  {
   "cell_type": "code",
   "execution_count": 23,
   "metadata": {},
   "outputs": [
    {
     "name": "stdout",
     "output_type": "stream",
     "text": [
      "Created folder: ../VIPERS/SYNTHETIC/NO_QUENCH/\n"
     ]
    }
   ],
   "source": [
    "# this is where to save output files\n",
    "#nome= \"/Users/giorgiomanzoni/Desktop/test/\"\n",
    "nome=\"../VIPERS/SYNTHETIC\"\n",
    "if not os.path.isdir(nome):\n",
    "    os.mkdir(nome)\n",
    "nome += \"/NO_QUENCH/\"\n",
    "if not os.path.isdir(nome):\n",
    "    os.mkdir(nome)\n",
    "print \"Created folder: \"+nome"
   ]
  },
  {
   "cell_type": "markdown",
   "metadata": {},
   "source": [
    "# Actual evolution of galaxies - NO QUENCHING"
   ]
  },
  {
   "cell_type": "code",
   "execution_count": 24,
   "metadata": {},
   "outputs": [
    {
     "name": "stdout",
     "output_type": "stream",
     "text": [
      "z start = 1.0 < z < 1.1\n"
     ]
    }
   ],
   "source": [
    "# LOOP Z BIN START\n",
    "#for t_start_pos in reversed(range(len(zetas))):   #6 5 4 3 2 1 0\n",
    "for t_start_pos in [6]:\n",
    "    \n",
    "    print \"z start = \"+str(zint_low[t_start_pos])+\" < z < \"+str(zint_high[t_start_pos])\n",
    "    \n",
    "    z_bin = np.where((z>zint_low[t_start_pos])&(z<zint_high[t_start_pos]))\n",
    "    z1013 = z[z_bin]\n",
    "    templ1013 = templ[z_bin]\n",
    "    uv1013 = uv[z_bin]\n",
    "    v1013 = mag_v[z_bin]\n",
    "    mass1013 = lgmass[z_bin]\n",
    "    tau1013 = mtau[z_bin]\n",
    "    age1013 = mage[z_bin]\n",
    "    index1013 = mindex[z_bin]\n",
    "\n",
    "    for t_end_pos in reversed(range(t_start_pos)):# if BACK: (6)--> 5,4,3,2,1,0\n",
    "        if t_end_pos == t_start_pos:\n",
    "            continue\n",
    "\n",
    "        DELTAT = times[t_end_pos]-times[t_start_pos]\n",
    "\n",
    "\n",
    "        synthetic_v = []\n",
    "        synthetic_uv = []\n",
    "        synthetic_mass = []\n",
    "        synthetic_tau = []\n",
    "        synthetic_age = []\n",
    "        # I know that does not change from the real but if\n",
    "        # I want to use np.where I have to manain the array to be of the same dimension (the same for taus)\n",
    "        synthetic_templ = []    \n",
    "        synthetic_index = []\n",
    "        \n",
    "        \n",
    "        \n",
    "        for i in range(len(z1013)):\n",
    "            ERROR = False\n",
    "            fluxes_all = ima.getRow(templ1013[i]+1)\n",
    "            fluxes = fluxes_all[0:last_lamb+1]\n",
    "            spectra = Spectrum((lambdas,fluxes))\n",
    "\n",
    "            U_i  = spectra.getMag(\"U_Bessel\",1,mag)\n",
    "            V_i  = spectra.getMag(\"V_Buser\",1,mag)\n",
    "            MASS_i = fluxes_all[mass_position]\n",
    "            UV_initial = U_i - V_i\n",
    "\n",
    "            tao = fluxes_all[tao_position]\n",
    "            age = fluxes_all[age_position]\n",
    "\n",
    "            new_age = age + DELTAT\n",
    "            #_______________________________________________________________\n",
    "            U_f ,V_f, MASS_f,ERROR = getUV_NewModel(templ1013[i]+1,DELTAT)\n",
    "            #_______________________________________________________________\n",
    "            \n",
    "            if ERROR:\n",
    "                raise Exception('Something went wrong while computing \\\n",
    "                            the evolution of the model'+str(templ1013[i]+\"for \"+str(DELTAT)+\" Gyr\"))\n",
    "                \n",
    "            UV_final  = U_f  - V_f\n",
    "            delta_UV = UV_final - UV_initial\n",
    "            delta_V  = V_f - V_i\n",
    "            #delta_MASS = MASS_f - MASS_i\n",
    "            delta_MASS_ratio = MASS_f / MASS_i\n",
    "\n",
    "            if not ERROR:\n",
    "                synthetic_v.append(v1013[i]+delta_V)\n",
    "                synthetic_uv.append(uv1013[i]+delta_UV)\n",
    "                synthetic_mass.append(mass1013[i]+np.log10(delta_MASS_ratio))\n",
    "                synthetic_tau.append(tau1013[i])\n",
    "                synthetic_age.append(age1013[i]+DELTAT)\n",
    "                synthetic_templ.append(templ1013[i])\n",
    "                synthetic_index.append(index1013[i])\n",
    "            else:\n",
    "                synthetic_v.append(-99.)\n",
    "                synthetic_uv.append(-99.)\n",
    "                synthetic_mass.append(-99.)\n",
    "                synthetic_tau.append(-99.)\n",
    "                synthetic_age.append(-99.)\n",
    "                synthetic_templ.append(-99.)\n",
    "                synthetic_index.append(-99.)\n",
    "\n",
    " \n",
    "        synthetic_uv = np.array(synthetic_uv)\n",
    "        synthetic_v = np.array(synthetic_v)\n",
    "        synthetic_mass = np.array(synthetic_mass)\n",
    "        synthetic_tau = np.array(synthetic_tau)\n",
    "        synthetic_age = np.array(synthetic_age)\n",
    "        synthetic_templ = np.array(synthetic_templ)\n",
    "        synthetic_index = np.array(synthetic_index)\n",
    "        \n",
    "        #SAVE SYNTHETIC GALAXIES IN A TXT FILE\n",
    "        SYN_POINTS_filename = nome+\"SYNTHETIC_points_%i%i_%i%i.txt\"%(zint_low[t_start_pos]*10,zint_high[t_start_pos]*10,zint_low[t_end_pos]*10,zint_high[t_end_pos]*10)\n",
    "        data_syn = [synthetic_uv,synthetic_v,synthetic_mass]\n",
    "        data_syn = np.array(data_syn)\n",
    "        np.savetxt(SYN_POINTS_filename,data_syn.T,header=\"syn_color_uv \\t syn_mag_v \\t syn_log_mass\")\n"
   ]
  },
  {
   "cell_type": "code",
   "execution_count": null,
   "metadata": {},
   "outputs": [],
   "source": []
  },
  {
   "cell_type": "markdown",
   "metadata": {},
   "source": [
    "# Plotting"
   ]
  },
  {
   "cell_type": "code",
   "execution_count": 69,
   "metadata": {},
   "outputs": [],
   "source": [
    "def read_synthetic_1011(zbin_low=0.40,zbin_high=0.50,quench_type=-99,folder='./SYNTHETIC/'):\n",
    "    '''evolution starts always from bin 1.0 < z < 1.3 into the bin specified by the input parameters\n",
    "    quench type can be [-99,0,1,2,3] that means respectively no quench (Sandage exponentially delayed SFH), \n",
    "    quench at the epoch of observation, \n",
    "    and quench randomly spread in interval times of 1,2,3 Gyrs after the epoch of observation. \n",
    "    The function returns the value of v,u-v points'''\n",
    "    import pandas as pd\n",
    "    \n",
    "    a=str(int(zbin_low*10))\n",
    "    b=str(int(zbin_high*10))\n",
    "    z_end_label =a+b\n",
    "    quench_type_label = \"\"\n",
    "    \n",
    "    if quench_type==-99:\n",
    "        quench_type_label='NO_QUENCH'\n",
    "    elif quench_type==0:\n",
    "        quench_type_label='QUENCH_0'\n",
    "    elif quench_type==1:\n",
    "        quench_type_label='QUENCH_1'\n",
    "    elif quench_type==2:\n",
    "        quench_type_label='QUENCH_2'\n",
    "    elif quench_type==3:\n",
    "        quench_type_label='QUENCH_3'\n",
    "    \n",
    "    if folder[-1]==\"/\":\n",
    "        folder = folder[:-1]\n",
    "\n",
    "    data = pd.read_csv(folder+quench_type_label+'/SYNTHETIC_points_1011_'+z_end_label+'.txt',sep = ' ',usecols=[0,1],comment='#',names=['uv','v'])\n",
    "    return np.array(data['v']),np.array(data['uv'])"
   ]
  },
  {
   "cell_type": "code",
   "execution_count": 72,
   "metadata": {},
   "outputs": [
    {
     "ename": "ImportError",
     "evalue": "No module named pandas",
     "output_type": "error",
     "traceback": [
      "\u001b[0;31m---------------------------------------------------------------------------\u001b[0m",
      "\u001b[0;31mImportError\u001b[0m                               Traceback (most recent call last)",
      "\u001b[0;32m<ipython-input-72-5651544701fd>\u001b[0m in \u001b[0;36m<module>\u001b[0;34m()\u001b[0m\n\u001b[0;32m----> 1\u001b[0;31m \u001b[0mread_synthetic_1011\u001b[0m\u001b[0;34m(\u001b[0m\u001b[0;34m)\u001b[0m\u001b[0;34m\u001b[0m\u001b[0m\n\u001b[0m",
      "\u001b[0;32m<ipython-input-69-f70939fbae30>\u001b[0m in \u001b[0;36mread_synthetic_1011\u001b[0;34m(zbin_low, zbin_high, quench_type, folder)\u001b[0m\n\u001b[1;32m      5\u001b[0m     \u001b[0;32mand\u001b[0m \u001b[0mquench\u001b[0m \u001b[0mrandomly\u001b[0m \u001b[0mspread\u001b[0m \u001b[0;32min\u001b[0m \u001b[0minterval\u001b[0m \u001b[0mtimes\u001b[0m \u001b[0mof\u001b[0m \u001b[0;36m1\u001b[0m\u001b[0;34m,\u001b[0m\u001b[0;36m2\u001b[0m\u001b[0;34m,\u001b[0m\u001b[0;36m3\u001b[0m \u001b[0mGyrs\u001b[0m \u001b[0mafter\u001b[0m \u001b[0mthe\u001b[0m \u001b[0mepoch\u001b[0m \u001b[0mof\u001b[0m \u001b[0mobservation\u001b[0m\u001b[0;34m.\u001b[0m\u001b[0;34m\u001b[0m\u001b[0m\n\u001b[1;32m      6\u001b[0m     The function returns the value of v,u-v points'''\n\u001b[0;32m----> 7\u001b[0;31m     \u001b[0;32mimport\u001b[0m \u001b[0mpandas\u001b[0m \u001b[0;32mas\u001b[0m \u001b[0mpd\u001b[0m\u001b[0;34m\u001b[0m\u001b[0m\n\u001b[0m\u001b[1;32m      8\u001b[0m \u001b[0;34m\u001b[0m\u001b[0m\n\u001b[1;32m      9\u001b[0m     \u001b[0ma\u001b[0m\u001b[0;34m=\u001b[0m\u001b[0mstr\u001b[0m\u001b[0;34m(\u001b[0m\u001b[0mint\u001b[0m\u001b[0;34m(\u001b[0m\u001b[0mzbin_low\u001b[0m\u001b[0;34m*\u001b[0m\u001b[0;36m10\u001b[0m\u001b[0;34m)\u001b[0m\u001b[0;34m)\u001b[0m\u001b[0;34m\u001b[0m\u001b[0m\n",
      "\u001b[0;31mImportError\u001b[0m: No module named pandas"
     ]
    }
   ],
   "source": [
    "read_synthetic_1011()"
   ]
  },
  {
   "cell_type": "code",
   "execution_count": 75,
   "metadata": {},
   "outputs": [
    {
     "ename": "ImportError",
     "evalue": "this version of pandas is incompatible with numpy < 1.12.0\nyour numpy version is 1.9.3.\nPlease upgrade numpy to >= 1.12.0 to use this pandas version",
     "output_type": "error",
     "traceback": [
      "\u001b[0;31m---------------------------------------------------------------------------\u001b[0m",
      "\u001b[0;31mImportError\u001b[0m                               Traceback (most recent call last)",
      "\u001b[0;32m<ipython-input-75-38d4b0363d82>\u001b[0m in \u001b[0;36m<module>\u001b[0;34m()\u001b[0m\n\u001b[0;32m----> 1\u001b[0;31m \u001b[0;32mimport\u001b[0m \u001b[0mpandas\u001b[0m\u001b[0;34m\u001b[0m\u001b[0m\n\u001b[0m",
      "\u001b[0;32m/Users/giorgiomanzoni/Pandora/envs/pandora.ez/lib/python2.7/site-packages/pandas/__init__.py\u001b[0m in \u001b[0;36m<module>\u001b[0;34m()\u001b[0m\n\u001b[1;32m     21\u001b[0m \u001b[0;34m\u001b[0m\u001b[0m\n\u001b[1;32m     22\u001b[0m \u001b[0;31m# numpy compat\u001b[0m\u001b[0;34m\u001b[0m\u001b[0;34m\u001b[0m\u001b[0m\n\u001b[0;32m---> 23\u001b[0;31m \u001b[0;32mfrom\u001b[0m \u001b[0mpandas\u001b[0m\u001b[0;34m.\u001b[0m\u001b[0mcompat\u001b[0m\u001b[0;34m.\u001b[0m\u001b[0mnumpy\u001b[0m \u001b[0;32mimport\u001b[0m \u001b[0;34m*\u001b[0m\u001b[0;34m\u001b[0m\u001b[0m\n\u001b[0m\u001b[1;32m     24\u001b[0m \u001b[0;34m\u001b[0m\u001b[0m\n\u001b[1;32m     25\u001b[0m \u001b[0;32mtry\u001b[0m\u001b[0;34m:\u001b[0m\u001b[0;34m\u001b[0m\u001b[0m\n",
      "\u001b[0;32m/Users/giorgiomanzoni/Pandora/envs/pandora.ez/lib/python2.7/site-packages/pandas/compat/numpy/__init__.py\u001b[0m in \u001b[0;36m<module>\u001b[0;34m()\u001b[0m\n\u001b[1;32m     20\u001b[0m                       \u001b[0;34m'your numpy version is {0}.\\n'\u001b[0m\u001b[0;34m\u001b[0m\u001b[0m\n\u001b[1;32m     21\u001b[0m                       \u001b[0;34m'Please upgrade numpy to >= 1.12.0 to use '\u001b[0m\u001b[0;34m\u001b[0m\u001b[0m\n\u001b[0;32m---> 22\u001b[0;31m                       'this pandas version'.format(_np_version))\n\u001b[0m\u001b[1;32m     23\u001b[0m \u001b[0;34m\u001b[0m\u001b[0m\n\u001b[1;32m     24\u001b[0m \u001b[0;34m\u001b[0m\u001b[0m\n",
      "\u001b[0;31mImportError\u001b[0m: this version of pandas is incompatible with numpy < 1.12.0\nyour numpy version is 1.9.3.\nPlease upgrade numpy to >= 1.12.0 to use this pandas version"
     ]
    }
   ],
   "source": [
    "import pandas"
   ]
  },
  {
   "cell_type": "code",
   "execution_count": 4,
   "metadata": {},
   "outputs": [],
   "source": [
    "import pandas as pd"
   ]
  },
  {
   "cell_type": "code",
   "execution_count": 5,
   "metadata": {},
   "outputs": [],
   "source": [
    "import numpy"
   ]
  },
  {
   "cell_type": "code",
   "execution_count": 6,
   "metadata": {},
   "outputs": [],
   "source": [
    "from  pandora.astro import Mags"
   ]
  },
  {
   "cell_type": "code",
   "execution_count": 8,
   "metadata": {},
   "outputs": [
    {
     "ename": "ImportError",
     "evalue": "No module named matplotlib.plot",
     "output_type": "error",
     "traceback": [
      "\u001b[0;31m---------------------------------------------------------------------------\u001b[0m",
      "\u001b[0;31mImportError\u001b[0m                               Traceback (most recent call last)",
      "\u001b[0;32m<ipython-input-8-77f13082743b>\u001b[0m in \u001b[0;36m<module>\u001b[0;34m()\u001b[0m\n\u001b[0;32m----> 1\u001b[0;31m \u001b[0;32mimport\u001b[0m \u001b[0mmatplotlib\u001b[0m\u001b[0;34m.\u001b[0m\u001b[0mplot\u001b[0m\u001b[0;34m\u001b[0m\u001b[0m\n\u001b[0m",
      "\u001b[0;31mImportError\u001b[0m: No module named matplotlib.plot"
     ]
    }
   ],
   "source": [
    "import matplotlib.plot"
   ]
  },
  {
   "cell_type": "code",
   "execution_count": null,
   "metadata": {},
   "outputs": [],
   "source": []
  }
 ],
 "metadata": {
  "kernelspec": {
   "display_name": "Python 2",
   "language": "python",
   "name": "python2"
  },
  "language_info": {
   "codemirror_mode": {
    "name": "ipython",
    "version": 2
   },
   "file_extension": ".py",
   "mimetype": "text/x-python",
   "name": "python",
   "nbconvert_exporter": "python",
   "pygments_lexer": "ipython2",
   "version": "2.7.15"
  }
 },
 "nbformat": 4,
 "nbformat_minor": 2
}
