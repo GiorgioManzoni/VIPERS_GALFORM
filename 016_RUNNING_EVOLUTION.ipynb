{
 "cells": [
  {
   "cell_type": "markdown",
   "metadata": {},
   "source": [
    "# Create the evolution data ( NO PLOTTING)"
   ]
  },
  {
   "cell_type": "markdown",
   "metadata": {},
   "source": [
    "For now, matplotlib.pyplot is in conflict with pandora.astro (which is needed to evolve galaxies). Therefore to run this notebook you want to use a python installed with conda from the package that Paolo Franzetti made. \n",
    "\n",
    "I am using:  /Users/giorgiomanzoni/PANDORA/envs/pandora.ez/bin/jupyter-notebook"
   ]
  },
  {
   "cell_type": "code",
   "execution_count": 1,
   "metadata": {},
   "outputs": [],
   "source": [
    "from pandora.astro import Mags"
   ]
  },
  {
   "cell_type": "code",
   "execution_count": 2,
   "metadata": {},
   "outputs": [],
   "source": [
    "from fase.fileio import Table"
   ]
  },
  {
   "cell_type": "code",
   "execution_count": 3,
   "metadata": {},
   "outputs": [],
   "source": [
    "from fase.fileio import Image"
   ]
  },
  {
   "cell_type": "code",
   "execution_count": 4,
   "metadata": {},
   "outputs": [],
   "source": [
    "from fase.fileio import Spectrum"
   ]
  },
  {
   "cell_type": "code",
   "execution_count": 6,
   "metadata": {},
   "outputs": [],
   "source": [
    "from astropy.cosmology import FlatLambdaCDM"
   ]
  },
  {
   "cell_type": "code",
   "execution_count": 7,
   "metadata": {},
   "outputs": [],
   "source": [
    "import numpy as np"
   ]
  },
  {
   "cell_type": "code",
   "execution_count": 193,
   "metadata": {},
   "outputs": [],
   "source": [
    "from GMfunctions import *"
   ]
  },
  {
   "cell_type": "code",
   "execution_count": 9,
   "metadata": {},
   "outputs": [],
   "source": [
    "import os"
   ]
  },
  {
   "cell_type": "code",
   "execution_count": 229,
   "metadata": {},
   "outputs": [],
   "source": [
    "#del sys.modules['GMfunctions']\n",
    "import string"
   ]
  },
  {
   "cell_type": "markdown",
   "metadata": {},
   "source": [
    "# Function to read magnitudes from the evolved model"
   ]
  },
  {
   "cell_type": "code",
   "execution_count": 10,
   "metadata": {},
   "outputs": [],
   "source": [
    "def getUV_NewModel(templ_start,delta_t):\n",
    "    jump_n_model = int((delta_t/0.1)+0.5)\n",
    "    templ_end = templ_start + jump_n_model\n",
    "\n",
    "    #get tau of templ_start and compare it to the tau of templ_end\n",
    "\n",
    "    if templ_end<=1 or ima.getRow(templ_end)[tao_position] != ima.getRow(templ_start)[tao_position]:\n",
    "        ERROR= True\n",
    "    else:\n",
    "        ERROR=False\n",
    "\n",
    "    if not ERROR:\n",
    "        #print \"numero di modelli da saltare:\", jump_n_model, \"--> delta t= \",delta_t\n",
    "        flx_all = ima.getRow(templ_end)\n",
    "        flx = flx_all[0:last_lamb+1]\n",
    "        spec = Spectrum((lambdas,flx))\n",
    "        u = spec.getMag(\"U_Bessel\",1,mag)\n",
    "        v = spec.getMag(\"V_Buser\",1,mag)\n",
    "        logmass = flx_all[mass_position]\n",
    "    else:\n",
    "        u = -99.\n",
    "        v = -99.\n",
    "        logmass = -99.\n",
    "    return u,v,logmass,ERROR"
   ]
  },
  {
   "cell_type": "markdown",
   "metadata": {},
   "source": [
    "# Read variables"
   ]
  },
  {
   "cell_type": "code",
   "execution_count": 231,
   "metadata": {},
   "outputs": [],
   "source": [
    "match = Table(\"../data/Data_Sample_V7.fits\",hdu=8)\n",
    "# image containing PEGASE models for SFH with no quenching\n",
    "ima = Image(\"../data/models_san_new_wind_abs.fits\")\n",
    "mag = Mags()\n",
    "\n",
    "cosmo = FlatLambdaCDM(H0=70,Om0=0.3)\n",
    "\n",
    "lambdas_all = ima.getRow(1)\n",
    "last_lamb = lambdas_all.argmin()-1\n",
    "lambdas = lambdas_all[0:last_lamb+1]\n",
    "\n",
    "# position in pixels where the \n",
    "# parameters are stored in ima\n",
    "tao_position  = last_lamb+1\n",
    "age_position  = last_lamb+2\n",
    "sfr_position  = last_lamb+6\n",
    "mass_position = last_lamb+7\n",
    "metallicity_position = last_lamb+5"
   ]
  },
  {
   "cell_type": "code",
   "execution_count": 12,
   "metadata": {},
   "outputs": [],
   "source": [
    "z       = match.getCol(\"zspec_1\")\n",
    "templ   = match.getCol(\"TEMPL\")\n",
    "mag_u   = match.getCol(\"M_Uj\")\n",
    "mag_v   = match.getCol(\"M_V\")\n",
    "uv      = mag_u - mag_v\n",
    "lgmass  = match.getCol(\"log_stellar_mass\")\n",
    "\n",
    "mtau = match.getCol(\"TAU_2\")\n",
    "mage = match.getCol(\"AGE_2\")\n",
    "mindex = match.getCol(\"num_1\")"
   ]
  },
  {
   "cell_type": "code",
   "execution_count": 13,
   "metadata": {},
   "outputs": [],
   "source": [
    "# zlow \t zhigh \t z_median \t t_median \n",
    "# 4.000000000000000222e-01 5.000000000000000000e-01 4.659999907016754150e-01 8.668469387307764507e+00\n",
    "# 5.000000000000000000e-01 5.999999999999999778e-01 5.529999732971191406e-01 8.056404053468638082e+00\n",
    "# 5.999999999999999778e-01 6.999999999999999556e-01 6.470000147819519043e-01 7.465174918806797955e+00\n",
    "# 6.999999999999999556e-01 8.000000000000000444e-01 7.491000294685363770e-01 6.894509193135578862e+00\n",
    "# 8.000000000000000444e-01 9.000000000000000222e-01 8.486499786376953125e-01 6.400014398583118158e+00\n",
    "# 9.000000000000000222e-01 1.000000000000000000e+00 9.408000111579895020e-01 5.989489134132708337e+00\n",
    "# 1.000000000000000000e+00 1.300000000000000044e+00 1.090000033378601074e+00 5.406702162694932312e+00"
   ]
  },
  {
   "cell_type": "markdown",
   "metadata": {},
   "source": [
    "# Computing median redshifts and cosmic time for evolution"
   ]
  },
  {
   "cell_type": "code",
   "execution_count": 15,
   "metadata": {},
   "outputs": [],
   "source": [
    "zint_low  = [0.4,0.5,0.6,0.7,0.8,0.9,1.0]\n",
    "zint_high = [0.5,0.6,0.7,0.8,0.9,1.0,1.1]\n",
    "zetas = np.zeros(len(zint_low))\n",
    "times = np.zeros(len(zint_low))\n",
    "for i in range(len(zetas)):\n",
    "    z_bin = np.where((z>zint_low[i])&(z<zint_high[i]))\n",
    "    zetas[i] = np.median(z[z_bin])\n",
    "    times[i] = cosmo.age(z=zetas[i]).value"
   ]
  },
  {
   "cell_type": "code",
   "execution_count": 16,
   "metadata": {},
   "outputs": [
    {
     "data": {
      "text/plain": [
       "array([ 8.66094395,  8.06143064,  7.4719106 ,  6.9014859 ,  6.40691613,\n",
       "        6.00713169,  5.58117456])"
      ]
     },
     "execution_count": 16,
     "metadata": {},
     "output_type": "execute_result"
    }
   ],
   "source": [
    "times"
   ]
  },
  {
   "cell_type": "markdown",
   "metadata": {},
   "source": [
    "# Create output folder - NO QUENCHING"
   ]
  },
  {
   "cell_type": "code",
   "execution_count": 23,
   "metadata": {},
   "outputs": [
    {
     "name": "stdout",
     "output_type": "stream",
     "text": [
      "Created folder: ../VIPERS/SYNTHETIC/NO_QUENCH/\n"
     ]
    }
   ],
   "source": [
    "# this is where to save output files\n",
    "#nome= \"/Users/giorgiomanzoni/Desktop/test/\"\n",
    "nome=\"../VIPERS/SYNTHETIC\"\n",
    "if not os.path.isdir(nome):\n",
    "    os.mkdir(nome)\n",
    "nome += \"/NO_QUENCH/\"\n",
    "if not os.path.isdir(nome):\n",
    "    os.mkdir(nome)\n",
    "print \"Created folder: \"+nome"
   ]
  },
  {
   "cell_type": "markdown",
   "metadata": {},
   "source": [
    "# Actual evolution of galaxies - NO QUENCHING"
   ]
  },
  {
   "cell_type": "code",
   "execution_count": 24,
   "metadata": {},
   "outputs": [
    {
     "name": "stdout",
     "output_type": "stream",
     "text": [
      "z start = 1.0 < z < 1.1\n"
     ]
    }
   ],
   "source": [
    "# LOOP Z BIN START\n",
    "#for t_start_pos in reversed(range(len(zetas))):   #6 5 4 3 2 1 0\n",
    "for t_start_pos in [6]:\n",
    "    \n",
    "    print \"z start = \"+str(zint_low[t_start_pos])+\" < z < \"+str(zint_high[t_start_pos])\n",
    "    \n",
    "    z_bin = np.where((z>zint_low[t_start_pos])&(z<zint_high[t_start_pos]))\n",
    "    z1013 = z[z_bin]\n",
    "    templ1013 = templ[z_bin]\n",
    "    uv1013 = uv[z_bin]\n",
    "    v1013 = mag_v[z_bin]\n",
    "    mass1013 = lgmass[z_bin]\n",
    "    tau1013 = mtau[z_bin]\n",
    "    age1013 = mage[z_bin]\n",
    "    index1013 = mindex[z_bin]\n",
    "\n",
    "    for t_end_pos in reversed(range(t_start_pos)):# if BACK: (6)--> 5,4,3,2,1,0\n",
    "        if t_end_pos == t_start_pos:\n",
    "            continue\n",
    "\n",
    "        DELTAT = times[t_end_pos]-times[t_start_pos]\n",
    "\n",
    "\n",
    "        synthetic_v = []\n",
    "        synthetic_uv = []\n",
    "        synthetic_mass = []\n",
    "        synthetic_tau = []\n",
    "        synthetic_age = []\n",
    "        # I know that does not change from the real but if\n",
    "        # I want to use np.where I have to manain the array to be of the same dimension (the same for taus)\n",
    "        synthetic_templ = []    \n",
    "        synthetic_index = []\n",
    "        \n",
    "        \n",
    "        \n",
    "        for i in range(len(z1013)):\n",
    "            ERROR = False\n",
    "            fluxes_all = ima.getRow(templ1013[i]+1)\n",
    "            fluxes = fluxes_all[0:last_lamb+1]\n",
    "            spectra = Spectrum((lambdas,fluxes))\n",
    "\n",
    "            U_i  = spectra.getMag(\"U_Bessel\",1,mag)\n",
    "            V_i  = spectra.getMag(\"V_Buser\",1,mag)\n",
    "            MASS_i = fluxes_all[mass_position]\n",
    "            UV_initial = U_i - V_i\n",
    "\n",
    "            tao = fluxes_all[tao_position]\n",
    "            age = fluxes_all[age_position]\n",
    "\n",
    "            new_age = age + DELTAT\n",
    "            #_______________________________________________________________\n",
    "            U_f ,V_f, MASS_f,ERROR = getUV_NewModel(templ1013[i]+1,DELTAT)\n",
    "            #_______________________________________________________________\n",
    "            \n",
    "            if ERROR:\n",
    "                raise Exception('Something went wrong while computing \\\n",
    "                            the evolution of the model'+str(templ1013[i]+\"for \"+str(DELTAT)+\" Gyr\"))\n",
    "                \n",
    "            UV_final  = U_f  - V_f\n",
    "            delta_UV = UV_final - UV_initial\n",
    "            delta_V  = V_f - V_i\n",
    "            #delta_MASS = MASS_f - MASS_i\n",
    "            delta_MASS_ratio = MASS_f / MASS_i\n",
    "\n",
    "            if not ERROR:\n",
    "                synthetic_v.append(v1013[i]+delta_V)\n",
    "                synthetic_uv.append(uv1013[i]+delta_UV)\n",
    "                synthetic_mass.append(mass1013[i]+np.log10(delta_MASS_ratio))\n",
    "                synthetic_tau.append(tau1013[i])\n",
    "                synthetic_age.append(age1013[i]+DELTAT)\n",
    "                synthetic_templ.append(templ1013[i])\n",
    "                synthetic_index.append(index1013[i])\n",
    "            else:\n",
    "                synthetic_v.append(-99.)\n",
    "                synthetic_uv.append(-99.)\n",
    "                synthetic_mass.append(-99.)\n",
    "                synthetic_tau.append(-99.)\n",
    "                synthetic_age.append(-99.)\n",
    "                synthetic_templ.append(-99.)\n",
    "                synthetic_index.append(-99.)\n",
    "\n",
    " \n",
    "        synthetic_uv = np.array(synthetic_uv)\n",
    "        synthetic_v = np.array(synthetic_v)\n",
    "        synthetic_mass = np.array(synthetic_mass)\n",
    "        synthetic_tau = np.array(synthetic_tau)\n",
    "        synthetic_age = np.array(synthetic_age)\n",
    "        synthetic_templ = np.array(synthetic_templ)\n",
    "        synthetic_index = np.array(synthetic_index)\n",
    "        \n",
    "        #SAVE SYNTHETIC GALAXIES IN A TXT FILE\n",
    "        SYN_POINTS_filename = nome+\"SYNTHETIC_points_%i%i_%i%i.txt\"%(zint_low[t_start_pos]*10,zint_high[t_start_pos]*10,zint_low[t_end_pos]*10,zint_high[t_end_pos]*10)\n",
    "        data_syn = [synthetic_uv,synthetic_v,synthetic_mass]\n",
    "        data_syn = np.array(data_syn)\n",
    "        np.savetxt(SYN_POINTS_filename,data_syn.T,header=\"syn_color_uv \\t syn_mag_v \\t syn_log_mass\")\n"
   ]
  },
  {
   "cell_type": "code",
   "execution_count": null,
   "metadata": {},
   "outputs": [],
   "source": []
  },
  {
   "cell_type": "code",
   "execution_count": 154,
   "metadata": {},
   "outputs": [],
   "source": [
    "# make sure you use random.seed(0) when running random QUENCH "
   ]
  },
  {
   "cell_type": "code",
   "execution_count": 186,
   "metadata": {},
   "outputs": [
    {
     "name": "stdout",
     "output_type": "stream",
     "text": [
      "None\n",
      "4\n"
     ]
    }
   ],
   "source": [
    "print np.random.seed(0)\n",
    "print np.random.choice([0,1,2,3,4])"
   ]
  },
  {
   "cell_type": "markdown",
   "metadata": {},
   "source": [
    "# QUENCHING"
   ]
  },
  {
   "cell_type": "markdown",
   "metadata": {},
   "source": [
    "# Function to read from PEGASE txt files"
   ]
  },
  {
   "cell_type": "code",
   "execution_count": 262,
   "metadata": {},
   "outputs": [],
   "source": [
    "def CheckWarning(file):\n",
    "    WARNING=False\n",
    "    f = open(file,\"r\")\n",
    "    lines = f.readlines()\n",
    "    f.close()\n",
    "    # ignore header\n",
    "    i=0\n",
    "    while lines[i][0] != '*':\n",
    "        if \"WARNING\" in lines[i]:\n",
    "            WARNING = True\n",
    "        i+=1\n",
    "    return WARNING"
   ]
  },
  {
   "cell_type": "code",
   "execution_count": 263,
   "metadata": {},
   "outputs": [],
   "source": [
    "def getQuenchedLAMBDAS(dir_models,weak=False):\n",
    "    '''it returns the wavelenghts (common in every file of the project) and\n",
    "    numbers of line for each element of PEGASE format (relative to a single spectrum)'''\n",
    "\n",
    "    WARNING = False\n",
    "\n",
    "    if not weak:\n",
    "        os.system(\"ls \"+ dir_models+\" >> ./ls_quench.txt\")\n",
    "    else:\n",
    "        os.system(\"ls \"+ dir_models+\" >> ./ls_quench_weak.txt\")\n",
    "\n",
    "\n",
    "    f = open(\"./ls_quench.txt\",\"r\")\n",
    "    f.readline() # less dangerous the second line of the file (so this command skips the first)\n",
    "    nome_file = f.readline()\n",
    "    f.close()\n",
    "\n",
    "    if \"\\n\" in nome_file:\n",
    "        nome_file = nome_file[:-1]\n",
    "\n",
    "    f = open(dir_models+nome_file,\"r\")\n",
    "    lines = f.readlines()\n",
    "    f.close()\n",
    "\n",
    "    # ignore header\n",
    "    i=0\n",
    "    while lines[i][0] != '*':\n",
    "        if \"WARNING\" in lines[i]:\n",
    "            WARNING = True\n",
    "        i+=1\n",
    "    #i is in the row of ****\n",
    "    i +=1\n",
    "    len_header = i\n",
    "    tsteps, nwaves, nlines = map(int, string.split(lines[i]))\n",
    "\n",
    "    #compute how many rows are dedicated to wavelenghts\n",
    "    wavelines = float(nwaves)/5\n",
    "    if int(wavelines) != wavelines:\n",
    "        #add a line if number of wavelenghts are not multiple of 5\n",
    "        #remember that int(1.9)==1\n",
    "        wavelines += 1\n",
    "\n",
    "    #number of rows for wavelenghts\n",
    "    wavelines = int(wavelines)\n",
    "\n",
    "    #seek the index to the first wavelenght\n",
    "    i +=1\n",
    "\n",
    "    #load wavelenghts\n",
    "    waves=[]\n",
    "    for line in lines[i:i+wavelines]:\n",
    "        waves += map(float, string.split(line))\n",
    "        i+=1\n",
    "\n",
    "    #now i points to the first row of emission lines wavelenghts\n",
    "\n",
    "    waves = np.array(waves,np.float64)\n",
    "    #wave_cut = np.compress((waves>=MIN_WAVES)&(waves<=MAX_WAVES),waves)\n",
    "\n",
    "    #compute how many rows are dedicated to emission lines\n",
    "    lwavelines = float(nlines)/5\n",
    "    if int(lwavelines)!= lwavelines:\n",
    "        lwavelines += 1\n",
    "\n",
    "    #number of rows for emission lines\n",
    "    lwavelines = int(lwavelines)\n",
    "    return waves,len_header, wavelines, lwavelines, WARNING"
   ]
  },
  {
   "cell_type": "code",
   "execution_count": 264,
   "metadata": {},
   "outputs": [],
   "source": [
    "def getQuenchedUV(tau,quench,age,path=model_path):\n",
    "\n",
    "    taustr = string.replace(string.replace('%5.2f' % tau, ' ', '0'),'.','-')\n",
    "    quenchstr = string.replace(string.replace('%5.2f' % quench, ' ', '0'),'.','-')\n",
    "        \n",
    "    model_file = path+'salp_san_t%s_quench%s.spectra' % (taustr, quenchstr)\n",
    "\n",
    "\n",
    "    f = open(model_file,\"r\")\n",
    "    lines = f.readlines()\n",
    "    f.close()\n",
    "\n",
    "    if CheckWarning(model_file):\n",
    "        i = ROW_HEADER + 1 + ROW_WAVES + ROW_EMIS_LINE + 1\n",
    "    else:\n",
    "        i = ROW_HEADER + ROW_WAVES + ROW_EMIS_LINE + 1\n",
    "\n",
    "    #e.g. age=6.1 ==> you have to skip (61-1) blocks because age=0.1 is the zeroth block\n",
    "    seek = int(age*10)-1\n",
    "    i += seek * (ROW_WAVES+ROW_EMIS_LINE+2)\n",
    "    \n",
    "    #print lines[i]\n",
    "    #print lines[i+1]\n",
    "    #printRedBlink(model_file)\n",
    "\n",
    "    param1 = map(float,string.split(lines[i]))\n",
    "    i +=1\n",
    "    #param2 = map(float,string.split(lines[i]))\n",
    "    i +=1\n",
    "\n",
    "    fluxes=[]\n",
    "    for line in lines[i:i+ROW_WAVES]:\n",
    "        fluxes += map(float, string.split(line))\n",
    "        i+=1\n",
    "\n",
    "    spec = Spectrum((lambdas,fluxes))\n",
    "    u = spec.getMag(\"U_Bessel\",1,mag)\n",
    "    v = spec.getMag(\"V_Buser\",1,mag)\n",
    "    mass_norm = param1[2]\n",
    "\n",
    "\n",
    "    return u,v, mass_norm"
   ]
  },
  {
   "cell_type": "markdown",
   "metadata": {},
   "source": [
    "## Input parameters"
   ]
  },
  {
   "cell_type": "code",
   "execution_count": 276,
   "metadata": {},
   "outputs": [],
   "source": [
    "limited= 3 # [0,1,2,3] #interval time in which the random quenching has to occur after the age of the galaxy\n",
    "output_path = createPath(\"../VIPERS/SYNTHETIC/QUENCH_\"+str(int(limited))+\"/\")\n",
    "model_path = \"/Volumes/SP PHD U3/GalaxyEvolution/Analisi_CMR/models/QUENCHED_MODELS/\""
   ]
  },
  {
   "cell_type": "markdown",
   "metadata": {},
   "source": [
    "## Reading parameters in order to read from PEGASE txt files"
   ]
  },
  {
   "cell_type": "code",
   "execution_count": 277,
   "metadata": {},
   "outputs": [],
   "source": [
    "lambdas,ROW_HEADER, ROW_WAVES, ROW_EMIS_LINE, WARNING = getQuenchedLAMBDAS(model_path)"
   ]
  },
  {
   "cell_type": "code",
   "execution_count": 278,
   "metadata": {},
   "outputs": [],
   "source": [
    "if WARNING:\n",
    "    ROW_HEADER = ROW_HEADER-1"
   ]
  },
  {
   "cell_type": "code",
   "execution_count": 279,
   "metadata": {},
   "outputs": [],
   "source": [
    "# I am just changing the name of AGE and TAU in order to be more practical with the code\n",
    "\n",
    "TAU = match.getCol(\"TAU_2\")\n",
    "AGE = match.getCol(\"AGE_2\")\n",
    "\n",
    "AGE_1 = np.unique(AGE)"
   ]
  },
  {
   "cell_type": "markdown",
   "metadata": {},
   "source": [
    "# RUNNING THE EVOLUTION with quenching limited by the variable \"limited\""
   ]
  },
  {
   "cell_type": "code",
   "execution_count": 280,
   "metadata": {},
   "outputs": [],
   "source": [
    "#LOOP ON THE Z BIN TO START\n",
    "#for t_start_pos in reversed(range(len(zetas))):   #6 5 4 3 2 1 0\n",
    "for t_start_pos in [6]:\n",
    "    \n",
    "    z_bin = np.where((z>zint_low[t_start_pos])&(z<zint_high[t_start_pos]))\n",
    "    z1013 = z[z_bin]\n",
    "    templ1013 = templ[z_bin]\n",
    "    uv1013 = uv[z_bin]\n",
    "    v1013 = mag_v[z_bin]\n",
    "    mass1013 = lgmass[z_bin]\n",
    "\n",
    "    tau1013 = TAU[z_bin]\n",
    "    age1013 = AGE[z_bin]\n",
    "    \n",
    "    #LOOP ON THE Z BIN TO END\n",
    "    for t_end_pos in reversed(range(t_start_pos)):# if BACK: (6)--> 5,4,3,2,1,0\n",
    "        if t_end_pos == t_start_pos:\n",
    "            continue\n",
    "\n",
    "        DELTAT = times[t_end_pos]-times[t_start_pos]\n",
    "\n",
    "        synthetic_v = []\n",
    "        synthetic_uv = []\n",
    "        synthetic_mass = []\n",
    "\n",
    "        # If I don't set the seed, every time I change end redshift bin, \n",
    "        # every galaxy follow a different quenching since it is random\n",
    "        np.random.seed(0)\n",
    "        for i in range(len(z1013)):\n",
    "            ERROR = False\n",
    "\n",
    "            #in genera_evoluzio_random I choose a different quench instead to fix it at the age of the galaxy:\n",
    "            #in function getQuenchedUV I have to change the second parameter.\n",
    "            #in the following code lines I choose it.\n",
    "\n",
    "\n",
    "            if limited!=0:\n",
    "                #possible_quench = np.where(AGE_1>age1013[i])#without limitations in time\n",
    "                possible_quench3 = np.where((AGE_1>age1013[i])&(np.fabs(AGE_1-age1013[i])<float(limited)))\n",
    "                #I require < 3 to make the quench fall in my observed evolution  (3.26 Gyr is the max delta_t)\n",
    "                quenches = AGE_1[possible_quench3]\n",
    "                try:\n",
    "                    rand_quench = np.random.choice(quenches)\n",
    "                except:\n",
    "                    rand_quench = age1013[i]\n",
    "            else:\n",
    "                rand_quench = age1013[i]\n",
    "\n",
    "            U_i,V_i,MASS_norm_i = getQuenchedUV(tau1013[i], rand_quench, age1013[i])\n",
    "\n",
    "            UV_initial = U_i - V_i\n",
    "\n",
    "            new_age = age1013[i]+ DELTAT\n",
    "\n",
    "\n",
    "            #just to approximate at the first decimal figure\n",
    "            #it should be equivalent to use round(new_age,1)\n",
    "            new_age_approx = (int(new_age*10+0.5)*0.1)\n",
    "\n",
    "\n",
    "            if new_age_approx<=0.0:\n",
    "                ERROR = True\n",
    "                printRedBlink(\"\\nTOO MUCH BACK IN TIME!!!!!!!!!!\\n\")\n",
    "\n",
    "            if not ERROR:\n",
    "                U_f, V_f, MASS_norm_f = getQuenchedUV(tau1013[i],rand_quench,new_age_approx)\n",
    "            else:\n",
    "                U_f = -99.\n",
    "                V_f = -99.\n",
    "                MASS_norm_f = -99.\n",
    "\n",
    "            UV_final  = U_f  - V_f\n",
    "\n",
    "\n",
    "            delta_UV = UV_final - UV_initial\n",
    "            delta_V  = V_f - V_i\n",
    "            #delta_MASS = MASS_f - MASS_i\n",
    "            delta_MASS_ratio = MASS_norm_f/MASS_norm_i\n",
    "\n",
    "            if not ERROR:\n",
    "                synthetic_v.append(v1013[i]+delta_V)\n",
    "                synthetic_uv.append(uv1013[i]+delta_UV)\n",
    "                synthetic_mass.append(mass1013[i]+np.log10(delta_MASS_ratio))\n",
    "            else:\n",
    "                synthetic_v.append(-99.)\n",
    "                synthetic_uv.append(-99.)\n",
    "                synthetic_mass.append(-99.)\n",
    "\n",
    "                \n",
    "        synthetic_uv = np.array(synthetic_uv)\n",
    "        synthetic_v = np.array(synthetic_v)\n",
    "        synthetic_mass = np.array(synthetic_mass)\n",
    "\n",
    "        \n",
    "        #SAVE SYNTHETIC GALAXIES IN A TXT FILE\n",
    "        SYN_POINTS_filename = output_path+\"SYNTHETIC_points_%i%i_%i%i.txt\"%(zint_low[t_start_pos]*10,zint_high[t_start_pos]*10,zint_low[t_end_pos]*10,zint_high[t_end_pos]*10)\n",
    "        data_syn = [synthetic_uv,synthetic_v,synthetic_mass]\n",
    "        data_syn = np.array(data_syn)\n",
    "        np.savetxt(SYN_POINTS_filename,data_syn.T,header=\"syn_color_uv \\t syn_mag_v \\t syn_log_mass\")\n",
    "    "
   ]
  },
  {
   "cell_type": "code",
   "execution_count": null,
   "metadata": {},
   "outputs": [],
   "source": []
  },
  {
   "cell_type": "code",
   "execution_count": null,
   "metadata": {},
   "outputs": [],
   "source": [
    "variable = 12.345"
   ]
  },
  {
   "cell_type": "code",
   "execution_count": 294,
   "metadata": {},
   "outputs": [
    {
     "data": {
      "text/plain": [
       "'ciao$$$$1.23ciao'"
      ]
     },
     "execution_count": 294,
     "metadata": {},
     "output_type": "execute_result"
    }
   ],
   "source": [
    "string.replace(\"ciao%8.2fciao\"%1.23234,\" \",\"$\")"
   ]
  },
  {
   "cell_type": "code",
   "execution_count": 289,
   "metadata": {},
   "outputs": [
    {
     "data": {
      "text/plain": [
       "float"
      ]
     },
     "execution_count": 289,
     "metadata": {},
     "output_type": "execute_result"
    }
   ],
   "source": [
    "type(0.1)"
   ]
  },
  {
   "cell_type": "code",
   "execution_count": 291,
   "metadata": {},
   "outputs": [
    {
     "data": {
      "text/plain": [
       "int"
      ]
     },
     "execution_count": 291,
     "metadata": {},
     "output_type": "execute_result"
    }
   ],
   "source": [
    "type(limited)"
   ]
  },
  {
   "cell_type": "code",
   "execution_count": 298,
   "metadata": {},
   "outputs": [
    {
     "data": {
      "text/plain": [
       "'2_50'"
      ]
     },
     "execution_count": 298,
     "metadata": {},
     "output_type": "execute_result"
    }
   ],
   "source": [
    "string.replace(string.replace('%5.2f' % 2.5, ' ', ''),'.','_')"
   ]
  },
  {
   "cell_type": "code",
   "execution_count": null,
   "metadata": {},
   "outputs": [],
   "source": []
  }
 ],
 "metadata": {
  "kernelspec": {
   "display_name": "Python 2",
   "language": "python",
   "name": "python2"
  },
  "language_info": {
   "codemirror_mode": {
    "name": "ipython",
    "version": 2
   },
   "file_extension": ".py",
   "mimetype": "text/x-python",
   "name": "python",
   "nbconvert_exporter": "python",
   "pygments_lexer": "ipython2",
   "version": "2.7.15"
  }
 },
 "nbformat": 4,
 "nbformat_minor": 2
}
