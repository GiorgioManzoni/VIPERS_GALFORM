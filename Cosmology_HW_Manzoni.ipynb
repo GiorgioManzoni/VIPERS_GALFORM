{
 "cells": [
  {
   "cell_type": "code",
   "execution_count": 130,
   "metadata": {
    "collapsed": false
   },
   "outputs": [],
   "source": [
    "import numpy as np\n",
    "import matplotlib.pyplot as plt\n",
    "from astropy.cosmology import FlatLambdaCDM\n",
    "%matplotlib inline"
   ]
  },
  {
   "cell_type": "code",
   "execution_count": 299,
   "metadata": {
    "collapsed": true
   },
   "outputs": [],
   "source": [
    "def Trapezoidal(f,xmin,xmax,N):\n",
    "    deltax = (xmax-xmin)/N\n",
    "    tot = 0.5*f(xmin)*deltax\n",
    "    for i in range(N-1):\n",
    "        tot += f(xmin+(i+1)*deltax)*deltax\n",
    "    tot += 0.5*f(xmax)*deltax\n",
    "    return tot\n",
    "\n",
    "def Simpson(f,xmin,xmax,N):\n",
    "    # YOUR CODE HERE\n",
    "    tot = f(xmin)\n",
    "    deltax = (xmax-xmin)/N\n",
    "    \n",
    "    for i in range(N-1):\n",
    "        if np.mod((i+1),2)==0:\n",
    "            tot += 2*f(xmin+(i+1)*deltax)\n",
    "        else:\n",
    "            tot += 4*f(xmin+(i+1)*deltax)\n",
    "    tot+= f(xmax)\n",
    "    \n",
    "    tot = tot*deltax/3.\n",
    "    return tot\n",
    "\n",
    "h = 0.72\n",
    "#h = 0.678\n",
    "H0 = h*100    \n",
    "c = 3e8 #m/s\n",
    "\n",
    "\n",
    "def E_squared(z,h=0.72,Om_rad=4.22*10**(-5)*h**(-2),Om_lambda=0.7,Om_mat=0.3):\n",
    "    return Om_rad*(1+z)**4 + Om_mat*(1+z)**3 + Om_lambda\n",
    "    \n",
    "def E(z,h=0.72,Om_rad=4.22*10**(-5)*h**(-2),Om_lambda=0.7,Om_mat=0.3):\n",
    "    return np.sqrt(Om_rad*(1+z)**4 + Om_mat*(1+z)**3 + Om_lambda)\n",
    "\n",
    "def Hubble_squared(z):\n",
    "    return (H0**2)*E_squared(z)\n",
    "\n",
    "def Hubble(z):\n",
    "    return H0*E(z) # km/s/Mpc\n",
    "\n",
    "def critical_density(z):\n",
    "    return (1./(3.*8.*np.pi*6.67))*10.**(-27)*Hubble_squared(z) # kg/m^3\n",
    "\n",
    "def func(z):\n",
    "    return (E(z)*(1+z))**(-1)\n",
    "\n",
    "def over_E(z):\n",
    "    return E(z)**(-1)\n",
    "\n",
    "def integ(func,z1,z2,N=1000):\n",
    "    z = np.logspace(np.log10(z1),np.log10(z2),N)\n",
    "    y = func(z)\n",
    "\n",
    "    A = 0\n",
    "    for i in range(len(z)-1):\n",
    "        A += np.abs((z[i+1]-z[i]))*y[i+1]\n",
    "    return A\n",
    "\n",
    "def integ_trap(func,z1,z2,N=1000):\n",
    "    z = np.logspace(np.log10(z1),np.log10(z2),N)\n",
    "    y = func(z)\n",
    "\n",
    "    A = 0\n",
    "    for i in range(len(z)-1):\n",
    "        A += np.abs((z[i+1]-z[i]))*(y[i]+y[i+1])/2\n",
    "    return A\n",
    "\n",
    "\n",
    "def delta_time(z1,z2):\n",
    "    #return ((H0**(-1)*Simpson(func,z1,z2,10**5))*(3*10**(19)))/(3.15*10**7)\n",
    "    return ((H0**(-1)*integ_trap(func,z1,z2,10**(3)))*(3*10**(19)))/(3.15*10**7) #yr\n",
    "\n",
    "def comoving_distance(z):\n",
    "    zero = 10**(-20)\n",
    "    return ((c*H0**(-1)*integ_trap(over_E,zero,z,10**(3)))/10**3) #Mpc\n",
    "\n",
    "def comoving_volume_flat(z):\n",
    "    return 4/3*np.pi*comoving_distance(z)**3\n"
   ]
  },
  {
   "cell_type": "code",
   "execution_count": 207,
   "metadata": {
    "collapsed": false
   },
   "outputs": [
    {
     "name": "stdout",
     "output_type": "stream",
     "text": [
      "0.5645511029950239  Gyr\n",
      "12.747633518569502  Gyr\n",
      "0.5991941434753602  Gyr\n",
      "0.6426204888802225  Gyr\n"
     ]
    }
   ],
   "source": [
    "zero = 10.**(-15)\n",
    "print(delta_time(3,4)/10**9,\" Gyr\")\n",
    "Age_universe = delta_time(zero,10e50)/10**9\n",
    "print(Age_universe,\" Gyr\")\n",
    "print(delta_time(7.54,50)/10**9,\" Gyr\")\n",
    "print(Age_universe - delta_time(zero,7.54)/10**9,\" Gyr\")"
   ]
  },
  {
   "cell_type": "code",
   "execution_count": 208,
   "metadata": {
    "collapsed": false
   },
   "outputs": [
    {
     "name": "stdout",
     "output_type": "stream",
     "text": [
      "0.5799554323874612 Gyr\n"
     ]
    },
    {
     "data": {
      "text/latex": [
       "$6272.6216 \\; \\mathrm{Mpc}$"
      ],
      "text/plain": [
       "<Quantity 6272.621598703321 Mpc>"
      ]
     },
     "execution_count": 208,
     "metadata": {},
     "output_type": "execute_result"
    }
   ],
   "source": [
    "cosmo = FlatLambdaCDM(H0=72,Om0=0.3)\n",
    "print(cosmo.age(3) - cosmo.age(4))\n",
    "cosmo.comoving_distance(2.987)\n",
    "cosmo.comoving_distance(3.102)"
   ]
  },
  {
   "cell_type": "code",
   "execution_count": 209,
   "metadata": {
    "collapsed": false
   },
   "outputs": [
    {
     "data": {
      "image/png": "[encoded data removed]",
      "text/plain": [
       "<matplotlib.figure.Figure at 0x10c69c0b8>"
      ]
     },
     "metadata": {},
     "output_type": "display_data"
    },
    {
     "name": "stdout",
     "output_type": "stream",
     "text": [
      "critical_density_today:  1.0308925391983635e-26  kg/m^3\n",
      "critical_density(z=50):  4.158974353281534e-22  kg/m^3\n"
     ]
    }
   ],
   "source": [
    "z = np.logspace(np.log10(0.00000000000001),np.log10(10),1000)\n",
    "plt.plot(z,critical_density(z))\n",
    "plt.xlabel(\"z\")\n",
    "plt.ylabel(r\"$\\rho \\;\\; \\frac{kg}{m^3}$\")\n",
    "plt.show()\n",
    "print(\"critical_density_today: \",critical_density(10**(-100)),\" kg/m^3\")\n",
    "print(\"critical_density(z=50): \",critical_density(50),\" kg/m^3\")"
   ]
  },
  {
   "cell_type": "code",
   "execution_count": 258,
   "metadata": {
    "collapsed": false
   },
   "outputs": [
    {
     "data": {
      "image/png": "[encoded data removed]",
      "text/plain": [
       "<matplotlib.figure.Figure at 0x10cb06358>"
      ]
     },
     "metadata": {},
     "output_type": "display_data"
    }
   ],
   "source": [
    "z = np.logspace(np.log10(0.1),np.log10(10),500)\n",
    "\n",
    "zero = 10**(-20)\n",
    "t = []\n",
    "r = []\n",
    "D_L = []\n",
    "D_A = []\n",
    "for i in range(len(z)):\n",
    "    com_dis = comoving_distance(z[i])\n",
    "    r.append(com_dis) #Mpc\n",
    "    D_L.append(com_dis*(1+z[i])) #Mpc\n",
    "    D_A.append(com_dis/(1+z[i])) #Mpc\n",
    "    #t.append((Age_universe - delta_time(zero,z[i]))/10**6) #Myr\n",
    "    t.append((delta_time(z[i],10.**(20)))/10**6) #Myr\n",
    "    \n",
    "fig = plt.figure(figsize=(14,10))\n",
    "ax1 = fig.add_subplot(111)\n",
    "\n",
    "    \n",
    "ax1.plot(z,r,label=\"comoving distance\")\n",
    "ax1.plot(z,D_L,label=\"luminosity distance\")\n",
    "ax1.plot(z,D_A,label=\"angular distance\")\n",
    "ax1.plot(0.,0.,\"r\",label=\"age of the universe\")\n",
    "\n",
    "\n",
    "#plt.show()\n",
    "\n",
    "ax2 = ax1.twinx()\n",
    "ax2.plot(z,t,\"r\",label=\"age of the universe\")\n",
    "\n",
    "ax1.semilogy()\n",
    "\n",
    "#plt.xlim(0,3)\n",
    "#plt.ylim(0.,20000)\n",
    "ax1.set_xlabel(\"redshift\")\n",
    "ax1.set_ylabel(\"log distance [Mpc]\")\n",
    "ax2.set_ylabel(\"Time [Myr]\")\n",
    "ax1.legend(loc=1)\n",
    "#ax2.legend()\n",
    "plt.tight_layout()\n",
    "plt.savefig(\"./distances.png\")\n",
    "plt.show()"
   ]
  },
  {
   "cell_type": "code",
   "execution_count": 272,
   "metadata": {
    "collapsed": false
   },
   "outputs": [
    {
     "name": "stdout",
     "output_type": "stream",
     "text": [
      "1700.02316814\n",
      "[ 1.60846948]\n"
     ]
    }
   ],
   "source": [
    "D_A = np.array(D_A)\n",
    "print(D_A.max())\n",
    "print(z[np.where(D_A==D_A.max())])"
   ]
  },
  {
   "cell_type": "code",
   "execution_count": 275,
   "metadata": {
    "collapsed": true
   },
   "outputs": [],
   "source": [
    "def redshift(l_o,l_e):\n",
    "    return np.abs(l_o-l_e)/l_e"
   ]
  },
  {
   "cell_type": "code",
   "execution_count": 293,
   "metadata": {
    "collapsed": false
   },
   "outputs": [
    {
     "name": "stdout",
     "output_type": "stream",
     "text": [
      "2.98729918481 3.01197693453\n",
      "23.0493140038  Mpc\n"
     ]
    }
   ],
   "source": [
    "z1 = redshift(4862.24-15.,1215.67)\n",
    "z2 = redshift(4862.24+15.,1215.67)\n",
    "print(z1,z2)\n",
    "print(comoving_distance_(z2)-comoving_distance_(z1),\" Mpc\")"
   ]
  },
  {
   "cell_type": "code",
   "execution_count": 292,
   "metadata": {
    "collapsed": false
   },
   "outputs": [
    {
     "data": {
      "text/latex": [
       "$23.037027 \\; \\mathrm{Mpc}$"
      ],
      "text/plain": [
       "<Quantity 23.03702707568209 Mpc>"
      ]
     },
     "execution_count": 292,
     "metadata": {},
     "output_type": "execute_result"
    }
   ],
   "source": [
    "cosmo.comoving_distance(z2)-cosmo.comoving_distance(z1)"
   ]
  },
  {
   "cell_type": "code",
   "execution_count": 306,
   "metadata": {
    "collapsed": false
   },
   "outputs": [
    {
     "name": "stdout",
     "output_type": "stream",
     "text": [
      "982572605689.5809 Mpc3\n",
      "984277441239.0\n",
      "Volume sphere 11070697595.8  Mpc^3\n"
     ]
    }
   ],
   "source": [
    "print(cosmo.comoving_volume(z1))\n",
    "print(4/3*np.pi*comoving_distance(z1)**3)\n",
    "vol = comoving_volume_flat(z2) - comoving_volume_flat(z1)\n",
    "print(\"Volume sphere\",vol, \" Mpc^3\") "
   ]
  },
  {
   "cell_type": "code",
   "execution_count": 302,
   "metadata": {
    "collapsed": true
   },
   "outputs": [],
   "source": [
    "def arcmin_to_rad(arcmin):\n",
    "    return (arcmin/60)*(np.pi/180)"
   ]
  },
  {
   "cell_type": "code",
   "execution_count": 316,
   "metadata": {
    "collapsed": false
   },
   "outputs": [
    {
     "data": {
      "text/plain": [
       "2.1153987485188096e-06"
      ]
     },
     "execution_count": 316,
     "metadata": {},
     "output_type": "execute_result"
    }
   ],
   "source": [
    "angle = arcmin_to_rad(5)\n",
    "angle**2"
   ]
  },
  {
   "cell_type": "code",
   "execution_count": 310,
   "metadata": {
    "collapsed": false
   },
   "outputs": [
    {
     "name": "stdout",
     "output_type": "stream",
     "text": [
      "Observed sphere in 5':  1863.6200187  Mpc^3\n"
     ]
    }
   ],
   "source": [
    "print(\"Observed sphere in 5': \",vol*(angle**2/(4*np.pi)),\" Mpc^3\")"
   ]
  },
  {
   "cell_type": "code",
   "execution_count": 312,
   "metadata": {
    "collapsed": false
   },
   "outputs": [
    {
     "data": {
      "text/plain": [
       "2.9996380596707986"
      ]
     },
     "execution_count": 312,
     "metadata": {},
     "output_type": "execute_result"
    }
   ],
   "source": [
    "z0 = redshift(4862.24,1215.67)\n",
    "z0"
   ]
  },
  {
   "cell_type": "code",
   "execution_count": 314,
   "metadata": {
    "collapsed": false
   },
   "outputs": [
    {
     "data": {
      "text/plain": [
       "7165.4059638291983"
      ]
     },
     "execution_count": 314,
     "metadata": {},
     "output_type": "execute_result"
    }
   ],
   "source": [
    "SB_0 = 28*(1+z0)**4\n",
    "SB_0"
   ]
  },
  {
   "cell_type": "code",
   "execution_count": 318,
   "metadata": {
    "collapsed": false
   },
   "outputs": [
    {
     "data": {
      "text/plain": [
       "21.979793076219863"
      ]
     },
     "execution_count": 318,
     "metadata": {},
     "output_type": "execute_result"
    }
   ],
   "source": [
    "SB_intr = 28 -10*np.log10(1+z0)\n",
    "SB_intr"
   ]
  },
  {
   "cell_type": "code",
   "execution_count": 319,
   "metadata": {
    "collapsed": false
   },
   "outputs": [
    {
     "data": {
      "text/plain": [
       "0.47712125471966244"
      ]
     },
     "execution_count": 319,
     "metadata": {},
     "output_type": "execute_result"
    }
   ],
   "source": [
    "np.log10(3)"
   ]
  },
  {
   "cell_type": "code",
   "execution_count": null,
   "metadata": {
    "collapsed": true
   },
   "outputs": [],
   "source": []
  }
 ],
 "metadata": {
  "kernelspec": {
   "display_name": "Python 2",
   "language": "python",
   "name": "python2"
  },
  "language_info": {
   "codemirror_mode": {
    "name": "ipython",
    "version": 2
   },
   "file_extension": ".py",
   "mimetype": "text/x-python",
   "name": "python",
   "nbconvert_exporter": "python",
   "pygments_lexer": "ipython2",
   "version": "2.7.13"
  }
 },
 "nbformat": 4,
 "nbformat_minor": 2
}
