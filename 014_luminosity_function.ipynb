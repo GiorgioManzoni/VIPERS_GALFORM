{
 "cells": [
  {
   "cell_type": "code",
   "execution_count": 2,
   "metadata": {},
   "outputs": [],
   "source": [
    "import numpy as np\n",
    "import matplotlib.pyplot as plt\n",
    "%matplotlib inline\n",
    "import matplotlib \n",
    "matplotlib.rc('xtick', labelsize=10) \n",
    "matplotlib.rc('ytick', labelsize=10)\n",
    "matplotlib.rcParams.update({'font.size': 20})\n",
    "import pandas as pd\n",
    "from virgodb import VirgoDB\n",
    "vdb = VirgoDB(\"giorgio\",password=\"BN401kmd\")\n",
    "import time\n",
    "\n",
    "from fase.fileio import Table"
   ]
  },
  {
   "cell_type": "code",
   "execution_count": 4,
   "metadata": {},
   "outputs": [],
   "source": [
    "Q =  'SELECT '\n",
    "Q += '   mag_B_ext  '\n",
    "Q += 'FROM '\n",
    "Q += '   Gonzalez2014a..mr7 '\n",
    "Q += 'WHERE '\n",
    "Q += '   snapnum = 37 '\n",
    "\n",
    "t1 = time.time()\n",
    "vdb.query_to_file(\"../data/mag_B_ext_37.txt\", Q, format=\"text\")\n",
    "t2 = time.time()"
   ]
  },
  {
   "cell_type": "code",
   "execution_count": 5,
   "metadata": {},
   "outputs": [
    {
     "name": "stdout",
     "output_type": "stream",
     "text": [
      "72.9787359238\n"
     ]
    }
   ],
   "source": [
    "print(t2-t1)"
   ]
  },
  {
   "cell_type": "code",
   "execution_count": 111,
   "metadata": {},
   "outputs": [],
   "source": [
    "def QUERY_VIRGO_in_file(mag='mag_B_ext',snap_num=37,file_name=\"../data/mag_B_ext_37.txt\"):\n",
    "    from virgodb import VirgoDB\n",
    "    vdb = VirgoDB(\"giorgio\",password=\"BN401kmd\")\n",
    "    Q =  'SELECT '\n",
    "    Q += ' '+mag+' '\n",
    "    Q += 'FROM '\n",
    "    Q += '   Gonzalez2014a..mr7 '\n",
    "    Q += 'WHERE '\n",
    "    Q += '   snapnum = '+str(snap_num)\n",
    "    vdb.query_to_file(file_name, Q, format=\"text\")\n",
    "    return None"
   ]
  },
  {
   "cell_type": "code",
   "execution_count": null,
   "metadata": {},
   "outputs": [],
   "source": []
  },
  {
   "cell_type": "code",
   "execution_count": 112,
   "metadata": {},
   "outputs": [],
   "source": [
    "QUERY_VIRGO_in_file(mag='mag_B_ext',snap_num=45,file_name=\"../data/mag_B_ext_45.txt\")"
   ]
  },
  {
   "cell_type": "code",
   "execution_count": null,
   "metadata": {},
   "outputs": [],
   "source": []
  },
  {
   "cell_type": "code",
   "execution_count": 57,
   "metadata": {},
   "outputs": [],
   "source": [
    "Q =  'SELECT '\n",
    "Q += '   mag_B_ext  '\n",
    "Q += 'FROM '\n",
    "Q += '   Gonzalez2014a..mr7 '\n",
    "Q += 'WHERE '\n",
    "Q += '   snapnum = 47 '\n",
    "\n",
    "t1 = time.time()\n",
    "vdb.query_to_file(\"../data/mag_B_ext_47.txt\", Q, format=\"text\")\n",
    "t2 = time.time()"
   ]
  },
  {
   "cell_type": "code",
   "execution_count": null,
   "metadata": {},
   "outputs": [],
   "source": []
  },
  {
   "cell_type": "code",
   "execution_count": null,
   "metadata": {},
   "outputs": [],
   "source": []
  },
  {
   "cell_type": "code",
   "execution_count": 58,
   "metadata": {},
   "outputs": [
    {
     "name": "stdout",
     "output_type": "stream",
     "text": [
      "79.2740881443\n"
     ]
    }
   ],
   "source": [
    "print(t2-t1)"
   ]
  },
  {
   "cell_type": "code",
   "execution_count": null,
   "metadata": {},
   "outputs": [],
   "source": []
  },
  {
   "cell_type": "markdown",
   "metadata": {},
   "source": [
    "# Read from txt"
   ]
  },
  {
   "cell_type": "code",
   "execution_count": 9,
   "metadata": {},
   "outputs": [],
   "source": [
    "m37 = pd.read_csv(\"../data/mag_B_ext_37.txt\",delimiter=',',comment='#')"
   ]
  },
  {
   "cell_type": "code",
   "execution_count": 59,
   "metadata": {},
   "outputs": [],
   "source": [
    "m47 = pd.read_csv(\"../data/mag_B_ext_47.txt\",delimiter=',',comment='#')"
   ]
  },
  {
   "cell_type": "code",
   "execution_count": 61,
   "metadata": {},
   "outputs": [],
   "source": [
    "mag_B_37 =m37['mag_B_ext']"
   ]
  },
  {
   "cell_type": "code",
   "execution_count": 62,
   "metadata": {},
   "outputs": [],
   "source": [
    "mag_B_47 =m47['mag_B_ext']"
   ]
  },
  {
   "cell_type": "code",
   "execution_count": null,
   "metadata": {},
   "outputs": [],
   "source": []
  },
  {
   "cell_type": "code",
   "execution_count": null,
   "metadata": {},
   "outputs": [],
   "source": []
  },
  {
   "cell_type": "code",
   "execution_count": 81,
   "metadata": {},
   "outputs": [],
   "source": [
    "aa = np.histogram(mag_B_37,bins=300,range=(-25,-5))"
   ]
  },
  {
   "cell_type": "code",
   "execution_count": null,
   "metadata": {},
   "outputs": [],
   "source": []
  },
  {
   "cell_type": "code",
   "execution_count": 84,
   "metadata": {},
   "outputs": [
    {
     "data": {
      "text/plain": [
       "array([-25.        , -24.93333333, -24.86666667, -24.8       ,\n",
       "       -24.73333333, -24.66666667, -24.6       , -24.53333333,\n",
       "       -24.46666667, -24.4       , -24.33333333, -24.26666667,\n",
       "       -24.2       , -24.13333333, -24.06666667, -24.        ,\n",
       "       -23.93333333, -23.86666667, -23.8       , -23.73333333,\n",
       "       -23.66666667, -23.6       , -23.53333333, -23.46666667,\n",
       "       -23.4       , -23.33333333, -23.26666667, -23.2       ,\n",
       "       -23.13333333, -23.06666667, -23.        , -22.93333333,\n",
       "       -22.86666667, -22.8       , -22.73333333, -22.66666667,\n",
       "       -22.6       , -22.53333333, -22.46666667, -22.4       ,\n",
       "       -22.33333333, -22.26666667, -22.2       , -22.13333333,\n",
       "       -22.06666667, -22.        , -21.93333333, -21.86666667,\n",
       "       -21.8       , -21.73333333, -21.66666667, -21.6       ,\n",
       "       -21.53333333, -21.46666667, -21.4       , -21.33333333,\n",
       "       -21.26666667, -21.2       , -21.13333333, -21.06666667,\n",
       "       -21.        , -20.93333333, -20.86666667, -20.8       ,\n",
       "       -20.73333333, -20.66666667, -20.6       , -20.53333333,\n",
       "       -20.46666667, -20.4       , -20.33333333, -20.26666667,\n",
       "       -20.2       , -20.13333333, -20.06666667, -20.        ,\n",
       "       -19.93333333, -19.86666667, -19.8       , -19.73333333,\n",
       "       -19.66666667, -19.6       , -19.53333333, -19.46666667,\n",
       "       -19.4       , -19.33333333, -19.26666667, -19.2       ,\n",
       "       -19.13333333, -19.06666667, -19.        , -18.93333333,\n",
       "       -18.86666667, -18.8       , -18.73333333, -18.66666667,\n",
       "       -18.6       , -18.53333333, -18.46666667, -18.4       ,\n",
       "       -18.33333333, -18.26666667, -18.2       , -18.13333333,\n",
       "       -18.06666667, -18.        , -17.93333333, -17.86666667,\n",
       "       -17.8       , -17.73333333, -17.66666667, -17.6       ,\n",
       "       -17.53333333, -17.46666667, -17.4       , -17.33333333,\n",
       "       -17.26666667, -17.2       , -17.13333333, -17.06666667,\n",
       "       -17.        , -16.93333333, -16.86666667, -16.8       ,\n",
       "       -16.73333333, -16.66666667, -16.6       , -16.53333333,\n",
       "       -16.46666667, -16.4       , -16.33333333, -16.26666667,\n",
       "       -16.2       , -16.13333333, -16.06666667, -16.        ,\n",
       "       -15.93333333, -15.86666667, -15.8       , -15.73333333,\n",
       "       -15.66666667, -15.6       , -15.53333333, -15.46666667,\n",
       "       -15.4       , -15.33333333, -15.26666667, -15.2       ,\n",
       "       -15.13333333, -15.06666667, -15.        , -14.93333333,\n",
       "       -14.86666667, -14.8       , -14.73333333, -14.66666667,\n",
       "       -14.6       , -14.53333333, -14.46666667, -14.4       ,\n",
       "       -14.33333333, -14.26666667, -14.2       , -14.13333333,\n",
       "       -14.06666667, -14.        , -13.93333333, -13.86666667,\n",
       "       -13.8       , -13.73333333, -13.66666667, -13.6       ,\n",
       "       -13.53333333, -13.46666667, -13.4       , -13.33333333,\n",
       "       -13.26666667, -13.2       , -13.13333333, -13.06666667,\n",
       "       -13.        , -12.93333333, -12.86666667, -12.8       ,\n",
       "       -12.73333333, -12.66666667, -12.6       , -12.53333333,\n",
       "       -12.46666667, -12.4       , -12.33333333, -12.26666667,\n",
       "       -12.2       , -12.13333333, -12.06666667, -12.        ,\n",
       "       -11.93333333, -11.86666667, -11.8       , -11.73333333,\n",
       "       -11.66666667, -11.6       , -11.53333333, -11.46666667,\n",
       "       -11.4       , -11.33333333, -11.26666667, -11.2       ,\n",
       "       -11.13333333, -11.06666667, -11.        , -10.93333333,\n",
       "       -10.86666667, -10.8       , -10.73333333, -10.66666667,\n",
       "       -10.6       , -10.53333333, -10.46666667, -10.4       ,\n",
       "       -10.33333333, -10.26666667, -10.2       , -10.13333333,\n",
       "       -10.06666667, -10.        ,  -9.93333333,  -9.86666667,\n",
       "        -9.8       ,  -9.73333333,  -9.66666667,  -9.6       ,\n",
       "        -9.53333333,  -9.46666667,  -9.4       ,  -9.33333333,\n",
       "        -9.26666667,  -9.2       ,  -9.13333333,  -9.06666667,\n",
       "        -9.        ,  -8.93333333,  -8.86666667,  -8.8       ,\n",
       "        -8.73333333,  -8.66666667,  -8.6       ,  -8.53333333,\n",
       "        -8.46666667,  -8.4       ,  -8.33333333,  -8.26666667,\n",
       "        -8.2       ,  -8.13333333,  -8.06666667,  -8.        ,\n",
       "        -7.93333333,  -7.86666667,  -7.8       ,  -7.73333333,\n",
       "        -7.66666667,  -7.6       ,  -7.53333333,  -7.46666667,\n",
       "        -7.4       ,  -7.33333333,  -7.26666667,  -7.2       ,\n",
       "        -7.13333333,  -7.06666667,  -7.        ,  -6.93333333,\n",
       "        -6.86666667,  -6.8       ,  -6.73333333,  -6.66666667,\n",
       "        -6.6       ,  -6.53333333,  -6.46666667,  -6.4       ,\n",
       "        -6.33333333,  -6.26666667,  -6.2       ,  -6.13333333,\n",
       "        -6.06666667,  -6.        ,  -5.93333333,  -5.86666667,\n",
       "        -5.8       ,  -5.73333333,  -5.66666667,  -5.6       ,\n",
       "        -5.53333333,  -5.46666667,  -5.4       ,  -5.33333333,\n",
       "        -5.26666667,  -5.2       ,  -5.13333333,  -5.06666667,\n",
       "        -5.        ])"
      ]
     },
     "execution_count": 84,
     "metadata": {},
     "output_type": "execute_result"
    }
   ],
   "source": [
    "aa[1]"
   ]
  },
  {
   "cell_type": "code",
   "execution_count": null,
   "metadata": {},
   "outputs": [],
   "source": []
  },
  {
   "cell_type": "code",
   "execution_count": null,
   "metadata": {},
   "outputs": [],
   "source": []
  },
  {
   "cell_type": "code",
   "execution_count": 71,
   "metadata": {},
   "outputs": [
    {
     "data": {
      "image/png": "[encoded data removed]",
      "text/plain": [
       "<matplotlib.figure.Figure at 0x134dbf090>"
      ]
     },
     "metadata": {},
     "output_type": "display_data"
    }
   ],
   "source": [
    "a= plt.hist(mag_B_37,bins=300,range=(-25,-5))\n",
    "plt.show()"
   ]
  },
  {
   "cell_type": "code",
   "execution_count": null,
   "metadata": {},
   "outputs": [],
   "source": []
  },
  {
   "cell_type": "code",
   "execution_count": 72,
   "metadata": {},
   "outputs": [
    {
     "data": {
      "image/png": "[encoded data removed]",
      "text/plain": [
       "<matplotlib.figure.Figure at 0x119941350>"
      ]
     },
     "metadata": {},
     "output_type": "display_data"
    }
   ],
   "source": [
    "b= plt.hist(mag_B_47,bins=300,range=(-25,-5))\n",
    "plt.show()"
   ]
  },
  {
   "cell_type": "code",
   "execution_count": null,
   "metadata": {},
   "outputs": [],
   "source": []
  },
  {
   "cell_type": "code",
   "execution_count": 73,
   "metadata": {},
   "outputs": [],
   "source": [
    "bin_size= (25.-5.)/300."
   ]
  },
  {
   "cell_type": "code",
   "execution_count": 74,
   "metadata": {},
   "outputs": [
    {
     "data": {
      "text/plain": [
       "0.06666666666666667"
      ]
     },
     "execution_count": 74,
     "metadata": {},
     "output_type": "execute_result"
    }
   ],
   "source": [
    "bin_size"
   ]
  },
  {
   "cell_type": "code",
   "execution_count": 75,
   "metadata": {},
   "outputs": [
    {
     "data": {
      "text/plain": [
       "array([0.00000e+00, 0.00000e+00, 0.00000e+00, 0.00000e+00, 0.00000e+00,\n",
       "       0.00000e+00, 1.00000e+00, 0.00000e+00, 0.00000e+00, 0.00000e+00,\n",
       "       2.00000e+00, 2.00000e+00, 1.00000e+00, 4.00000e+00, 5.00000e+00,\n",
       "       1.00000e+00, 7.00000e+00, 8.00000e+00, 1.30000e+01, 1.70000e+01,\n",
       "       2.80000e+01, 2.40000e+01, 4.80000e+01, 6.10000e+01, 5.90000e+01,\n",
       "       8.60000e+01, 9.00000e+01, 1.21000e+02, 1.35000e+02, 1.56000e+02,\n",
       "       1.92000e+02, 2.10000e+02, 2.75000e+02, 3.35000e+02, 3.65000e+02,\n",
       "       4.31000e+02, 5.03000e+02, 5.13000e+02, 6.39000e+02, 7.23000e+02,\n",
       "       8.48000e+02, 1.06500e+03, 1.16500e+03, 1.40000e+03, 1.57800e+03,\n",
       "       1.71400e+03, 2.01200e+03, 2.33800e+03, 2.64300e+03, 2.92000e+03,\n",
       "       3.33100e+03, 3.87200e+03, 4.51400e+03, 5.17400e+03, 5.98600e+03,\n",
       "       6.62500e+03, 7.72000e+03, 8.93600e+03, 1.00630e+04, 1.16070e+04,\n",
       "       1.35670e+04, 1.56450e+04, 1.85660e+04, 2.10650e+04, 2.48460e+04,\n",
       "       2.83900e+04, 3.28660e+04, 3.75090e+04, 4.21450e+04, 4.75830e+04,\n",
       "       5.26300e+04, 5.77530e+04, 6.23390e+04, 6.74610e+04, 7.21480e+04,\n",
       "       7.62000e+04, 7.94110e+04, 8.29330e+04, 8.66260e+04, 8.87510e+04,\n",
       "       9.13080e+04, 9.26790e+04, 9.47850e+04, 9.67060e+04, 9.74100e+04,\n",
       "       9.91470e+04, 9.97780e+04, 1.00621e+05, 1.02889e+05, 1.04831e+05,\n",
       "       1.05164e+05, 1.07417e+05, 1.09479e+05, 1.11250e+05, 1.14006e+05,\n",
       "       1.15409e+05, 1.18982e+05, 1.21884e+05, 1.24441e+05, 1.27704e+05,\n",
       "       1.31395e+05, 1.35033e+05, 1.38918e+05, 1.43214e+05, 1.48807e+05,\n",
       "       1.53060e+05, 1.58520e+05, 1.62981e+05, 1.67546e+05, 1.73429e+05,\n",
       "       1.78612e+05, 1.83402e+05, 1.87706e+05, 1.92412e+05, 1.96509e+05,\n",
       "       2.00719e+05, 2.06001e+05, 2.10165e+05, 2.15009e+05, 2.19131e+05,\n",
       "       2.24901e+05, 2.29509e+05, 2.33771e+05, 2.40096e+05, 2.47610e+05,\n",
       "       2.52978e+05, 2.60412e+05, 2.67674e+05, 2.76385e+05, 2.82726e+05,\n",
       "       2.90918e+05, 3.01584e+05, 3.06887e+05, 3.12145e+05, 3.24043e+05,\n",
       "       3.29579e+05, 3.28370e+05, 3.43915e+05, 3.46124e+05, 3.43326e+05,\n",
       "       3.56693e+05, 3.57973e+05, 3.55443e+05, 3.67413e+05, 3.69123e+05,\n",
       "       3.65521e+05, 3.78292e+05, 3.81498e+05, 3.77321e+05, 3.88315e+05,\n",
       "       3.90642e+05, 3.84264e+05, 3.95722e+05, 3.92434e+05, 3.83654e+05,\n",
       "       3.97346e+05, 3.81900e+05, 3.73232e+05, 3.85049e+05, 3.60626e+05,\n",
       "       3.57324e+05, 3.51547e+05, 3.38134e+05, 3.21764e+05, 3.07694e+05,\n",
       "       2.89930e+05, 2.66797e+05, 2.45985e+05, 2.29285e+05, 2.13828e+05,\n",
       "       1.99879e+05, 1.90368e+05, 1.83697e+05, 1.79909e+05, 1.71672e+05,\n",
       "       1.62536e+05, 1.49690e+05, 1.45610e+05, 1.33979e+05, 1.21882e+05,\n",
       "       1.15972e+05, 1.05575e+05, 9.82550e+04, 9.13500e+04, 8.35580e+04,\n",
       "       7.79070e+04, 7.38910e+04, 6.93330e+04, 6.67770e+04, 6.78120e+04,\n",
       "       6.85510e+04, 6.89040e+04, 7.30550e+04, 6.98370e+04, 7.60040e+04,\n",
       "       7.81160e+04, 7.46240e+04, 7.48470e+04, 7.43080e+04, 7.23460e+04,\n",
       "       6.59400e+04, 6.47790e+04, 6.37170e+04, 5.87630e+04, 5.49250e+04,\n",
       "       5.13290e+04, 5.06650e+04, 4.57670e+04, 4.42530e+04, 4.28040e+04,\n",
       "       4.04820e+04, 4.05660e+04, 4.12290e+04, 3.91120e+04, 3.82880e+04,\n",
       "       3.80140e+04, 3.81630e+04, 3.85990e+04, 3.96220e+04, 3.90550e+04,\n",
       "       3.93140e+04, 3.92240e+04, 3.85130e+04, 3.74910e+04, 3.68210e+04,\n",
       "       3.49090e+04, 3.37830e+04, 3.21820e+04, 2.93590e+04, 2.70300e+04,\n",
       "       2.50230e+04, 2.25830e+04, 1.98290e+04, 1.74110e+04, 1.53930e+04,\n",
       "       1.32100e+04, 1.13190e+04, 9.36200e+03, 7.93900e+03, 6.47400e+03,\n",
       "       5.22700e+03, 3.99900e+03, 3.15800e+03, 2.27800e+03, 1.62900e+03,\n",
       "       1.20000e+03, 8.52000e+02, 6.17000e+02, 4.17000e+02, 2.54000e+02,\n",
       "       1.46000e+02, 8.40000e+01, 4.50000e+01, 4.00000e+00, 1.00000e+00,\n",
       "       0.00000e+00, 2.00000e+00, 0.00000e+00, 1.00000e+00, 0.00000e+00,\n",
       "       0.00000e+00, 0.00000e+00, 0.00000e+00, 0.00000e+00, 0.00000e+00,\n",
       "       1.00000e+00, 0.00000e+00, 0.00000e+00, 0.00000e+00, 0.00000e+00,\n",
       "       1.00000e+00, 0.00000e+00, 0.00000e+00, 0.00000e+00, 1.00000e+00,\n",
       "       1.00000e+00, 0.00000e+00, 0.00000e+00, 2.00000e+00, 2.00000e+00,\n",
       "       0.00000e+00, 1.00000e+00, 0.00000e+00, 0.00000e+00, 0.00000e+00,\n",
       "       1.00000e+00, 0.00000e+00, 1.00000e+00, 0.00000e+00, 0.00000e+00,\n",
       "       3.00000e+00, 0.00000e+00, 1.00000e+00, 0.00000e+00, 0.00000e+00,\n",
       "       1.00000e+00, 1.00000e+00, 1.00000e+00, 1.00000e+00, 2.00000e+00])"
      ]
     },
     "execution_count": 75,
     "metadata": {},
     "output_type": "execute_result"
    }
   ],
   "source": [
    "a[0]"
   ]
  },
  {
   "cell_type": "code",
   "execution_count": 76,
   "metadata": {},
   "outputs": [
    {
     "data": {
      "text/plain": [
       "array([0.00000e+00, 0.00000e+00, 0.00000e+00, 0.00000e+00, 0.00000e+00,\n",
       "       0.00000e+00, 0.00000e+00, 0.00000e+00, 0.00000e+00, 0.00000e+00,\n",
       "       0.00000e+00, 0.00000e+00, 0.00000e+00, 0.00000e+00, 0.00000e+00,\n",
       "       3.00000e+00, 1.00000e+00, 0.00000e+00, 2.00000e+00, 2.00000e+00,\n",
       "       3.00000e+00, 1.00000e+00, 7.00000e+00, 3.00000e+00, 3.00000e+00,\n",
       "       6.00000e+00, 1.90000e+01, 1.60000e+01, 1.70000e+01, 1.70000e+01,\n",
       "       2.70000e+01, 2.80000e+01, 2.70000e+01, 5.50000e+01, 7.20000e+01,\n",
       "       7.40000e+01, 9.50000e+01, 9.70000e+01, 1.56000e+02, 1.88000e+02,\n",
       "       2.22000e+02, 2.53000e+02, 2.95000e+02, 3.59000e+02, 4.74000e+02,\n",
       "       5.70000e+02, 7.16000e+02, 8.47000e+02, 1.04700e+03, 1.34600e+03,\n",
       "       1.61500e+03, 1.96500e+03, 2.37000e+03, 3.07200e+03, 3.58400e+03,\n",
       "       4.31900e+03, 5.10300e+03, 6.13400e+03, 7.07100e+03, 8.22800e+03,\n",
       "       9.50600e+03, 1.08730e+04, 1.27340e+04, 1.42660e+04, 1.60810e+04,\n",
       "       1.84540e+04, 2.06070e+04, 2.37610e+04, 2.66790e+04, 3.03960e+04,\n",
       "       3.39420e+04, 3.74010e+04, 4.10380e+04, 4.57330e+04, 4.95580e+04,\n",
       "       5.36570e+04, 5.71370e+04, 6.10740e+04, 6.55130e+04, 6.92770e+04,\n",
       "       7.24060e+04, 7.54360e+04, 7.85410e+04, 8.12570e+04, 8.43620e+04,\n",
       "       8.63830e+04, 8.89060e+04, 9.15360e+04, 9.37840e+04, 9.59290e+04,\n",
       "       9.89320e+04, 1.00466e+05, 1.03038e+05, 1.05651e+05, 1.08253e+05,\n",
       "       1.10572e+05, 1.12949e+05, 1.15884e+05, 1.18741e+05, 1.21388e+05,\n",
       "       1.24988e+05, 1.28022e+05, 1.32197e+05, 1.35885e+05, 1.38976e+05,\n",
       "       1.44489e+05, 1.48180e+05, 1.53086e+05, 1.56866e+05, 1.61596e+05,\n",
       "       1.65366e+05, 1.69803e+05, 1.74595e+05, 1.77574e+05, 1.82296e+05,\n",
       "       1.85519e+05, 1.89840e+05, 1.93379e+05, 1.97547e+05, 2.00437e+05,\n",
       "       2.03731e+05, 2.07836e+05, 2.11534e+05, 2.14491e+05, 2.18592e+05,\n",
       "       2.22392e+05, 2.26992e+05, 2.33004e+05, 2.38487e+05, 2.44483e+05,\n",
       "       2.50164e+05, 2.58194e+05, 2.66976e+05, 2.75227e+05, 2.85836e+05,\n",
       "       2.93682e+05, 3.04036e+05, 3.15669e+05, 3.22734e+05, 3.37761e+05,\n",
       "       3.45113e+05, 3.55356e+05, 3.64441e+05, 3.67400e+05, 3.81693e+05,\n",
       "       3.83401e+05, 3.91985e+05, 3.97004e+05, 3.96325e+05, 4.07364e+05,\n",
       "       4.00458e+05, 4.07989e+05, 4.08697e+05, 4.04805e+05, 4.10770e+05,\n",
       "       4.03070e+05, 4.13846e+05, 3.98479e+05, 4.07418e+05, 3.98045e+05,\n",
       "       3.96704e+05, 3.91405e+05, 3.85646e+05, 3.85254e+05, 3.69028e+05,\n",
       "       3.76516e+05, 3.56734e+05, 3.58405e+05, 3.46742e+05, 3.40349e+05,\n",
       "       3.30447e+05, 3.19621e+05, 3.12390e+05, 2.95381e+05, 2.91053e+05,\n",
       "       2.72880e+05, 2.54127e+05, 2.35209e+05, 2.18336e+05, 2.06137e+05,\n",
       "       1.94210e+05, 1.86836e+05, 1.77356e+05, 1.67822e+05, 1.57403e+05,\n",
       "       1.46976e+05, 1.39092e+05, 1.32239e+05, 1.25167e+05, 1.19005e+05,\n",
       "       1.14270e+05, 1.10939e+05, 1.06443e+05, 1.02363e+05, 9.62030e+04,\n",
       "       9.21340e+04, 8.96270e+04, 7.99900e+04, 7.81760e+04, 7.42350e+04,\n",
       "       6.75760e+04, 6.33510e+04, 5.83430e+04, 5.51390e+04, 5.06510e+04,\n",
       "       4.83080e+04, 4.52430e+04, 4.40500e+04, 4.27180e+04, 4.22270e+04,\n",
       "       4.30750e+04, 4.31160e+04, 4.39080e+04, 4.36270e+04, 4.70660e+04,\n",
       "       4.51900e+04, 4.59530e+04, 4.53280e+04, 4.17640e+04, 4.33110e+04,\n",
       "       4.35720e+04, 4.18170e+04, 3.87870e+04, 3.95330e+04, 3.67810e+04,\n",
       "       3.77340e+04, 3.58540e+04, 3.39360e+04, 3.32740e+04, 3.43120e+04,\n",
       "       3.31380e+04, 3.22690e+04, 3.11760e+04, 3.11750e+04, 3.07900e+04,\n",
       "       3.12820e+04, 3.08800e+04, 3.14460e+04, 3.20020e+04, 3.17140e+04,\n",
       "       3.16740e+04, 3.13880e+04, 3.11270e+04, 3.02000e+04, 2.99760e+04,\n",
       "       2.85390e+04, 2.72750e+04, 2.56530e+04, 2.40020e+04, 2.27980e+04,\n",
       "       2.11460e+04, 1.93200e+04, 1.70670e+04, 1.55120e+04, 1.38460e+04,\n",
       "       1.20390e+04, 1.04880e+04, 8.78200e+03, 7.50100e+03, 6.40200e+03,\n",
       "       5.33300e+03, 4.21400e+03, 3.33200e+03, 2.53300e+03, 1.83500e+03,\n",
       "       1.41400e+03, 1.05200e+03, 8.06000e+02, 6.11000e+02, 4.33000e+02,\n",
       "       2.99000e+02, 2.20000e+02, 1.39000e+02, 1.08000e+02, 6.30000e+01,\n",
       "       4.30000e+01, 2.30000e+01, 1.70000e+01, 1.20000e+01, 2.00000e+00,\n",
       "       2.00000e+00, 0.00000e+00, 1.00000e+00, 0.00000e+00, 0.00000e+00,\n",
       "       0.00000e+00, 0.00000e+00, 0.00000e+00, 0.00000e+00, 0.00000e+00,\n",
       "       0.00000e+00, 2.00000e+00, 0.00000e+00, 2.00000e+00, 1.00000e+00,\n",
       "       2.00000e+00, 0.00000e+00, 0.00000e+00, 0.00000e+00, 3.00000e+00])"
      ]
     },
     "execution_count": 76,
     "metadata": {},
     "output_type": "execute_result"
    }
   ],
   "source": [
    "b[0]"
   ]
  },
  {
   "cell_type": "code",
   "execution_count": 77,
   "metadata": {},
   "outputs": [
    {
     "data": {
      "text/plain": [
       "array([0., 0., 0., 0., 0., 0., 0., 0., 0., 0., 0., 0., 0., 0., 0., 0., 0.,\n",
       "       0., 0., 0., 0., 0., 0., 0., 0., 0., 0., 0., 0., 0., 0., 0., 0., 0.,\n",
       "       0., 0., 0., 0., 0., 0., 0., 0., 0., 0., 0., 0., 0., 0., 0., 0., 0.,\n",
       "       0., 0., 0., 0., 0., 0., 0., 0., 0., 0., 0., 0., 0., 0., 0., 0., 0.,\n",
       "       0., 0., 0., 0., 0., 0., 0., 0., 0., 0., 0., 0., 0., 0., 0., 0., 0.,\n",
       "       0., 0., 0., 0., 0., 0., 0., 0., 0., 0., 0., 0., 0., 0., 0., 0., 0.,\n",
       "       0., 0., 0., 0., 0., 0., 0., 0., 0., 0., 0., 0., 0., 0., 0., 0., 0.,\n",
       "       0., 0., 0., 0., 0., 0., 0., 0., 0., 0., 0., 0., 0., 0., 0., 0., 0.,\n",
       "       0., 0., 0., 0., 0., 0., 0., 0., 0., 0., 0., 0., 0., 0., 0., 0., 0.,\n",
       "       0., 0., 0., 0., 0., 0., 0., 0., 0., 0., 0., 0., 0., 0., 0., 0., 0.,\n",
       "       0., 0., 0., 0., 0., 0., 0., 0., 0., 0., 0., 0., 0., 0., 0., 0., 0.,\n",
       "       0., 0., 0., 0., 0., 0., 0., 0., 0., 0., 0., 0., 0., 0., 0., 0., 0.,\n",
       "       0., 0., 0., 0., 0., 0., 0., 0., 0., 0., 0., 0., 0., 0., 0., 0., 0.,\n",
       "       0., 0., 0., 0., 0., 0., 0., 0., 0., 0., 0., 0., 0., 0., 0., 0., 0.,\n",
       "       0., 0., 0., 0., 0., 0., 0., 0., 0., 0., 0., 0., 0., 0., 0., 0., 0.,\n",
       "       0., 0., 0., 0., 0., 0., 0., 0., 0., 0., 0., 0., 0., 0., 0., 0., 0.,\n",
       "       0., 0., 0., 0., 0., 0., 0., 0., 0., 0., 0., 0., 0., 0., 0., 0., 0.,\n",
       "       0., 0., 0., 0., 0., 0., 0., 0., 0., 0., 0., 0.])"
      ]
     },
     "execution_count": 77,
     "metadata": {},
     "output_type": "execute_result"
    }
   ],
   "source": [
    "a[1]-b[1]"
   ]
  },
  {
   "cell_type": "code",
   "execution_count": 78,
   "metadata": {},
   "outputs": [],
   "source": [
    "bn = a[1]+bin_size*0.5"
   ]
  },
  {
   "cell_type": "code",
   "execution_count": 80,
   "metadata": {},
   "outputs": [
    {
     "name": "stderr",
     "output_type": "stream",
     "text": [
      "/Users/giorgiomanzoni/pngs_anaconda/anaconda2/anaconda2/lib/python2.7/site-packages/ipykernel_launcher.py:1: RuntimeWarning: divide by zero encountered in log10\n",
      "  \"\"\"Entry point for launching an IPython kernel.\n",
      "/Users/giorgiomanzoni/pngs_anaconda/anaconda2/anaconda2/lib/python2.7/site-packages/ipykernel_launcher.py:2: RuntimeWarning: divide by zero encountered in log10\n",
      "  \n"
     ]
    },
    {
     "data": {
      "image/png": "[encoded data removed]",
      "text/plain": [
       "<matplotlib.figure.Figure at 0x119cdbe90>"
      ]
     },
     "metadata": {},
     "output_type": "display_data"
    }
   ],
   "source": [
    "plt.plot(bn[:-1]+5*np.log10(0.7),np.log10(a[0]/0.0666/(500**3/0.7**3)),label='snap 37')\n",
    "plt.plot(bn[:-1]+5*np.log10(0.7),np.log10(b[0]/0.0666/(500**3/0.7**3)),label='snap 47')\n",
    "plt.xlim(-24.3,-19.1)\n",
    "plt.ylim(-6.1,-1.1)\n",
    "plt.legend()\n",
    "plt.show()"
   ]
  },
  {
   "cell_type": "code",
   "execution_count": 70,
   "metadata": {},
   "outputs": [
    {
     "data": {
      "text/plain": [
       "0.6666666666666666"
      ]
     },
     "execution_count": 70,
     "metadata": {},
     "output_type": "execute_result"
    }
   ],
   "source": [
    "bin_size"
   ]
  },
  {
   "cell_type": "code",
   "execution_count": 106,
   "metadata": {},
   "outputs": [],
   "source": [
    "def Luminosity_function_GALF(mag,h=1,volume_times_h3=(500)**3,bin_width=0.01,label='snap',fig=0):\n",
    "    m1 = -25.\n",
    "    m2 = -5.\n",
    "    Nbin = int(np.abs(m2-m1)/bin_width+0.5)\n",
    "    counts,bins = np.histogram(mag,bins=Nbin,range=(m1,m2))\n",
    "    \n",
    "    bins_centered = bins+0.5*bin_width\n",
    "    \n",
    "    canvas = plt.figure(fig)\n",
    "    plt.plot(bins[:-1]+5*np.log10(h),np.log10(counts/bin_width/(volume_times_h3/h**3)),label=label)\n",
    "\n",
    "    plt.xlim(-24.3,-19.1)\n",
    "    plt.ylim(-6.1,-1.1)\n",
    " \n",
    "    return canvas"
   ]
  },
  {
   "cell_type": "code",
   "execution_count": 107,
   "metadata": {},
   "outputs": [
    {
     "name": "stderr",
     "output_type": "stream",
     "text": [
      "/Users/giorgiomanzoni/pngs_anaconda/anaconda2/anaconda2/lib/python2.7/site-packages/ipykernel_launcher.py:10: RuntimeWarning: divide by zero encountered in log10\n",
      "  # Remove the CWD from sys.path while we load stuff.\n"
     ]
    },
    {
     "data": {
      "image/png": "[encoded data removed]",
      "text/plain": [
       "<matplotlib.figure.Figure at 0x155625810>"
      ]
     },
     "metadata": {},
     "output_type": "display_data"
    }
   ],
   "source": [
    "Luminosity_function_GALF(mag_B_37,label='snap 37')\n",
    "Luminosity_function_GALF(mag_B_47,label='snap 47')\n",
    "plt.legend()\n",
    "plt.show()"
   ]
  },
  {
   "cell_type": "code",
   "execution_count": null,
   "metadata": {},
   "outputs": [],
   "source": []
  }
 ],
 "metadata": {
  "kernelspec": {
   "display_name": "Python 2",
   "language": "python",
   "name": "python2"
  },
  "language_info": {
   "codemirror_mode": {
    "name": "ipython",
    "version": 2
   },
   "file_extension": ".py",
   "mimetype": "text/x-python",
   "name": "python",
   "nbconvert_exporter": "python",
   "pygments_lexer": "ipython2",
   "version": "2.7.11"
  }
 },
 "nbformat": 4,
 "nbformat_minor": 2
}
