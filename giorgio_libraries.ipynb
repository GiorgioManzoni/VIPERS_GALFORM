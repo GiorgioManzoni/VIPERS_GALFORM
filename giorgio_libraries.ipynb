{
 "cells": [
  {
   "cell_type": "code",
   "execution_count": 9,
   "metadata": {
    "collapsed": true
   },
   "outputs": [],
   "source": [
    "import numpy as np\n",
    "import matplotlib.pyplot as plt\n",
    "from astropy.cosmology import FlatLambdaCDM\n",
    "%matplotlib inline"
   ]
  },
  {
   "cell_type": "code",
   "execution_count": 5,
   "metadata": {
    "collapsed": true
   },
   "outputs": [],
   "source": [
    "def integral(x,y,a,b):\n",
    "    '''easiest definition (rectangular methods) of a definite integral for a non analytic function defined by x and y'''\n",
    "    area = 0.\n",
    "    red = np.where((x>=a)&(x<b))\n",
    "    x_red = x[red]\n",
    "    y_red = y[red]\n",
    "    for i in range(len(x_red)-1):\n",
    "        b = x_red[i+1]-x_red[i]\n",
    "        h = y_red[i]\n",
    "        area += float(b)*float(h)\n",
    "    return area"
   ]
  },
  {
   "cell_type": "code",
   "execution_count": 6,
   "metadata": {
    "collapsed": false
   },
   "outputs": [
    {
     "name": "stdout",
     "output_type": "stream",
     "text": [
      "Help on function integral in module __main__:\n",
      "\n",
      "integral(x, y, a, b)\n",
      "    easiest definition (rectangular methods) of a definite integral for a non analytic function defined by x and y\n",
      "\n"
     ]
    }
   ],
   "source": [
    "help(integral)"
   ]
  },
  {
   "cell_type": "code",
   "execution_count": 21,
   "metadata": {
    "collapsed": true
   },
   "outputs": [],
   "source": [
    "def Trapezoidal(f,xmin,xmax,N):\n",
    "    deltax = (xmax-xmin)/N\n",
    "    tot = 0.5*f(xmin)*deltax\n",
    "    for i in range(N-1):\n",
    "        tot += f(xmin+(i+1)*deltax)*deltax\n",
    "    tot += 0.5*f(xmax)*deltax\n",
    "    return tot\n",
    "\n",
    "def Simpson(f,xmin,xmax,N):\n",
    "    # YOUR CODE HERE\n",
    "    tot = f(xmin)\n",
    "    deltax = (xmax-xmin)/N\n",
    "    \n",
    "    for i in range(N-1):\n",
    "        if np.mod((i+1),2)==0:\n",
    "            tot += 2*f(xmin+(i+1)*deltax)\n",
    "        else:\n",
    "            tot += 4*f(xmin+(i+1)*deltax)\n",
    "    tot+= f(xmax)\n",
    "    \n",
    "    tot = tot*deltax/3.\n",
    "    return tot\n",
    "\n",
    "h = 0.72\n",
    "#h = 0.678\n",
    "H0 = h*100    \n",
    "c = 3e8 #m/s\n",
    "\n",
    "\n",
    "def E_squared(z,h=0.72,Om_rad=4.22*10**(-5)*h**(-2),Om_lambda=0.7,Om_mat=0.3):\n",
    "    return Om_rad*(1+z)**4 + Om_mat*(1+z)**3 + Om_lambda\n",
    "    \n",
    "def E(z,h=0.72,Om_rad=4.22*10**(-5)*h**(-2),Om_lambda=0.7,Om_mat=0.3):\n",
    "    return np.sqrt(Om_rad*(1+z)**4 + Om_mat*(1+z)**3 + Om_lambda)\n",
    "\n",
    "def Hubble_squared(z):\n",
    "    return (H0**2)*E_squared(z)\n",
    "\n",
    "def Hubble(z):\n",
    "    return H0*E(z) # km/s/Mpc\n",
    "\n",
    "def critical_density(z):\n",
    "    return (1./(3.*8.*np.pi*6.67))*10.**(-27)*Hubble_squared(z) # kg/m^3\n",
    "\n",
    "def func(z):\n",
    "    return (E(z)*(1+z))**(-1)\n",
    "\n",
    "def over_E(z):\n",
    "    return E(z)**(-1)\n",
    "\n",
    "def integ(func,z1,z2,N=1000):\n",
    "    z = np.logspace(np.log10(z1),np.log10(z2),N)\n",
    "    y = func(z)\n",
    "\n",
    "    A = 0\n",
    "    for i in range(len(z)-1):\n",
    "        A += np.abs((z[i+1]-z[i]))*y[i+1]\n",
    "    return A\n",
    "\n",
    "def integ_trap(func,z1,z2,N=1000):\n",
    "    z = np.logspace(np.log10(z1),np.log10(z2),N)\n",
    "    y = func(z)\n",
    "\n",
    "    A = 0\n",
    "    for i in range(len(z)-1):\n",
    "        A += np.abs((z[i+1]-z[i]))*(y[i]+y[i+1])/2\n",
    "    return A\n",
    "\n",
    "\n",
    "def delta_time(z1,z2):\n",
    "    #return ((H0**(-1)*Simpson(func,z1,z2,10**5))*(3*10**(19)))/(3.15*10**7)\n",
    "    return ((H0**(-1)*integ_trap(func,z1,z2,10**(3)))*(3*10**(19)))/(3.15*10**7) #yr\n",
    "\n",
    "def comoving_distance(z):\n",
    "    zero = 10**(-20)\n",
    "    return ((c*H0**(-1)*integ_trap(over_E,zero,z,10**(5)))/10**3) #Mpc\n",
    "\n",
    "def luminosity_distance(z):\n",
    "    return comoving_distance(z)*(1+z)\n",
    "    \n",
    "def angular_diameter_distance(z):\n",
    "    return comoving_distance(z)/(1+z)\n",
    "\n",
    "def comoving_volume_flat(z):\n",
    "    return 4/3*np.pi*comoving_distance(z)**3\n"
   ]
  },
  {
   "cell_type": "code",
   "execution_count": 22,
   "metadata": {
    "collapsed": false
   },
   "outputs": [
    {
     "data": {
      "text/plain": [
       "12748847966.040352"
      ]
     },
     "execution_count": 22,
     "metadata": {},
     "output_type": "execute_result"
    }
   ],
   "source": [
    "delta_time(0.000000001,1000)"
   ]
  },
  {
   "cell_type": "code",
   "execution_count": 23,
   "metadata": {
    "collapsed": false
   },
   "outputs": [
    {
     "data": {
      "text/plain": [
       "4509.3160425570404"
      ]
     },
     "execution_count": 23,
     "metadata": {},
     "output_type": "execute_result"
    }
   ],
   "source": [
    "luminosity_distance(0.75)"
   ]
  },
  {
   "cell_type": "code",
   "execution_count": null,
   "metadata": {
    "collapsed": true
   },
   "outputs": [],
   "source": []
  }
 ],
 "metadata": {
  "kernelspec": {
   "display_name": "Python 2",
   "language": "python",
   "name": "python2"
  },
  "language_info": {
   "codemirror_mode": {
    "name": "ipython",
    "version": 2
   },
   "file_extension": ".py",
   "mimetype": "text/x-python",
   "name": "python",
   "nbconvert_exporter": "python",
   "pygments_lexer": "ipython2",
   "version": "2.7.13"
  }
 },
 "nbformat": 4,
 "nbformat_minor": 0
}
