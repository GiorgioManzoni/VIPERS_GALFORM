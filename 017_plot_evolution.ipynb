{
 "cells": [
  {
   "cell_type": "code",
   "execution_count": 2,
   "metadata": {},
   "outputs": [],
   "source": [
    "import pandas as pd"
   ]
  },
  {
   "cell_type": "code",
   "execution_count": 3,
   "metadata": {},
   "outputs": [],
   "source": [
    "import numpy as np"
   ]
  },
  {
   "cell_type": "code",
   "execution_count": 4,
   "metadata": {},
   "outputs": [],
   "source": [
    "import matplotlib.pyplot as plt"
   ]
  },
  {
   "cell_type": "code",
   "execution_count": 8,
   "metadata": {},
   "outputs": [],
   "source": [
    "def read_synthetic_1011(zbin_low=0.40,zbin_high=0.50,quench_type=-99,folder='./SYNTHETIC/'):\n",
    "    '''evolution starts always from bin 1.0 < z < 1.3 into the bin specified by the input parameters\n",
    "    quench type can be [-99,0,1,2,3] that means respectively no quench (Sandage exponentially delayed SFH), \n",
    "    quench at the epoch of observation, \n",
    "    and quench randomly spread in interval times of 1,2,3 Gyrs after the epoch of observation. \n",
    "    The function returns the value of v,u-v points'''\n",
    "    import pandas as pd\n",
    "    \n",
    "    a=str(int(zbin_low*10))\n",
    "    b=str(int(zbin_high*10))\n",
    "    z_end_label =a+b\n",
    "    quench_type_label = \"\"\n",
    "    \n",
    "    if quench_type==-99:\n",
    "        quench_type_label='NO_QUENCH'\n",
    "    elif quench_type==0:\n",
    "        quench_type_label='QUENCH_0'\n",
    "    elif quench_type==1:\n",
    "        quench_type_label='QUENCH_1'\n",
    "    elif quench_type==2:\n",
    "        quench_type_label='QUENCH_2'\n",
    "    elif quench_type==3:\n",
    "        quench_type_label='QUENCH_3'\n",
    "    \n",
    "    if folder[-1]==\"/\":\n",
    "        folder = folder[:-1]\n",
    "\n",
    "    data = pd.read_csv(folder+\"/\"+quench_type_label+'/SYNTHETIC_points_1011_'+z_end_label+'.txt',sep = ' ',usecols=[0,1],comment='#',names=['uv','v'])\n",
    "    return np.array(data['v']),np.array(data['uv'])"
   ]
  },
  {
   "cell_type": "code",
   "execution_count": 10,
   "metadata": {},
   "outputs": [
    {
     "data": {
      "text/plain": [
       "(array([-21.57182745, -21.14233789, -22.3622172 , ..., -20.82248416,\n",
       "        -21.42774519, -21.02898003]),\n",
       " array([0.69271683, 1.89254729, 1.86837169, ..., 0.97590745, 1.72653584,\n",
       "        0.95929764]))"
      ]
     },
     "execution_count": 10,
     "metadata": {},
     "output_type": "execute_result"
    }
   ],
   "source": [
    "read_synthetic_1011(folder=\"../VIPERS/SYNTHETIC/\")"
   ]
  },
  {
   "cell_type": "code",
   "execution_count": null,
   "metadata": {},
   "outputs": [],
   "source": []
  }
 ],
 "metadata": {
  "kernelspec": {
   "display_name": "Python 2",
   "language": "python",
   "name": "python2"
  },
  "language_info": {
   "codemirror_mode": {
    "name": "ipython",
    "version": 2
   },
   "file_extension": ".py",
   "mimetype": "text/x-python",
   "name": "python",
   "nbconvert_exporter": "python",
   "pygments_lexer": "ipython2",
   "version": "2.7.11"
  }
 },
 "nbformat": 4,
 "nbformat_minor": 2
}
